{
 "cells": [
  {
   "cell_type": "code",
   "execution_count": 1,
   "id": "639f4dc5f1af1901",
   "metadata": {
    "collapsed": false,
    "ExecuteTime": {
     "end_time": "2024-02-08T03:19:11.784944Z",
     "start_time": "2024-02-08T03:19:11.449798Z"
    }
   },
   "outputs": [
    {
     "name": "stdout",
     "output_type": "stream",
     "text": [
      "查询车次信息\n"
     ]
    },
    {
     "name": "stderr",
     "output_type": "stream",
     "text": [
      "/var/folders/09/jffsgsld7vvfjskpky2kq_rm0000gn/T/ipykernel_24636/2060692830.py:4: DeprecationWarning: \n",
      "Pyarrow will become a required dependency of pandas in the next major release of pandas (pandas 3.0),\n",
      "(to allow more performant data types, such as the Arrow string type, and better interoperability with other libraries)\n",
      "but was not found to be installed on your system.\n",
      "If this would cause problems for you,\n",
      "please provide us feedback at https://github.com/pandas-dev/pandas/issues/54466\n",
      "        \n",
      "  import pandas as pd\n"
     ]
    }
   ],
   "source": [
    "import httpx\n",
    "import orjson\n",
    "# 定义变量\n",
    "import pandas as pd\n",
    "pd.set_option('display.max_columns', None)\n",
    "pd.set_option('display.max_rows', None)\n",
    "pd.set_option('max_colwidth',1000)\n",
    "\n",
    "#起始站-终点站,日期,车次\n",
    "station_start = \"赣榆\"\n",
    "station_end = \"常州\"\n",
    "date = \"2024-02-19\"\n",
    "filter_train_names = [\"D2923\"] \n",
    "\n",
    "print(\"查询车次信息\")"
   ]
  },
  {
   "cell_type": "code",
   "execution_count": 2,
   "id": "8c675565c1d362fc",
   "metadata": {
    "collapsed": false,
    "ExecuteTime": {
     "end_time": "2024-02-08T03:19:11.792060Z",
     "start_time": "2024-02-08T03:19:11.783936Z"
    }
   },
   "outputs": [],
   "source": [
    "def query_booking_by_station_v3_for_pc(station_start: str, station_end: str, date: str) -> list:\n",
    "    response = httpx.post('https://m.suanya.com/restapi/soa2/14666/json/GetBookingByStationV3ForPC',\n",
    "                          headers={\n",
    "                              \"authority\": \"m.suanya.com\",\n",
    "                              \"accept\": \"*/*\",\n",
    "                              \"accept-language\": \"zh-CN,zh;q=0.9,en;q=0.8,en-GB;q=0.7,en-US;q=0.6\",\n",
    "                              \"cache-control\": \"max-age=0\",\n",
    "                              \"content-type\": \"application/x-www-form-urlencoded; charset=UTF-8\",\n",
    "                              \"if-modified-since\": \"Thu, 01 Jan 1970 00:00:00 GMT\",\n",
    "                              \"origin\": \"https://www.suanya.com\",\n",
    "                              \"referer\": \"https://www.suanya.com/\",\n",
    "                              \"sec-ch-ua\": '\"Not A(Brand\";v=\"99\", \"Microsoft Edge\";v=\"121\", \"Chromium\";v=\"121\"',\n",
    "                              \"sec-ch-ua-mobile\": \"?0\",\n",
    "                              \"sec-ch-ua-platform\": '\"Windows\"',\n",
    "                              \"sec-fetch-dest\": \"empty\",\n",
    "                              \"sec-fetch-mode\": \"cors\",\n",
    "                              \"sec-fetch-site\": \"same-site\"\n",
    "                          },\n",
    "                          data={\n",
    "                              \"ArriveStation\": station_end,\n",
    "                              \"ChannelName\": \"ctrip.pc\",\n",
    "                              \"DepartDate\": date,\n",
    "                              \"DepartStation\": station_start\n",
    "                          }\n",
    "                          )\n",
    "    text = response.text\n",
    "    data = orjson.loads(text)\n",
    "    TrainItems = data[\"ResponseBody\"][\"TrainItems\"]\n",
    "    return TrainItems\n",
    "\n",
    "\n",
    "def query_booking_by_station_v3_for_pc_async(station_start: str, station_end: str, date: str) -> list:\n",
    "    query_booking_by_station_v3_for_pc(station_start, station_end, date)\n",
    "\n",
    "\n",
    "def transform_booking_train_items_info_to_dataframe(train_items: list):\n",
    "    # 定义列名的中英文对照字典\n",
    "    columns_chinese = {\n",
    "        \"train_number\": \"车次\",\n",
    "        \"start_time\": \"开始时间\",\n",
    "        \"end_time\": \"结束时间\",\n",
    "        \"duration\": \"耗时\",\n",
    "        \"first_class_price\": \"一等座价格\",\n",
    "        \"first_class_seats\": \"一等座余票量\",\n",
    "        \"second_class_price\": \"二等座价格\",\n",
    "        \"second_class_seats\": \"二等座余票量\",\n",
    "    }\n",
    "\n",
    "    # 使用英文列名创建DataFrame\n",
    "    data = [\n",
    "        {\n",
    "            \"train_number\": item[\"TrainName\"],\n",
    "            \"start_time\": item[\"StartTime\"],\n",
    "            \"end_time\": item[\"EndTime\"],\n",
    "            \"duration\": f'{item[\"UseTime\"] // 60}小时{item[\"UseTime\"] % 60}分钟',\n",
    "            \"first_class_price\": next(\n",
    "                (ticket[\"Price\"] for ticket in item[\"TicketResult\"][\"TicketItems\"] if\n",
    "                 ticket[\"SeatTypeName\"] == \"一等座\"),\n",
    "                None),\n",
    "            \"first_class_seats\": next((ticket[\"Inventory\"] for ticket in item[\"TicketResult\"][\"TicketItems\"] if\n",
    "                                       ticket[\"SeatTypeName\"] == \"一等座\"), None),\n",
    "            \"second_class_price\": next(\n",
    "                (ticket[\"Price\"] for ticket in item[\"TicketResult\"][\"TicketItems\"] if\n",
    "                 ticket[\"SeatTypeName\"] == \"二等座\"),\n",
    "                None),\n",
    "            \"second_class_seats\": next((ticket[\"Inventory\"] for ticket in item[\"TicketResult\"][\"TicketItems\"] if\n",
    "                                        ticket[\"SeatTypeName\"] == \"二等座\"), None),\n",
    "        }\n",
    "        for item in train_items\n",
    "    ]\n",
    "\n",
    "    train_list = pd.DataFrame(data)\n",
    "    # 重命名列名 , 不会改变原来的列名\n",
    "    return train_list.rename(columns=columns_chinese)\n",
    "\n",
    "\n",
    "def query_stop_station_list(train_name: str, date: str, start_station: str, end_station: str) -> list:\n",
    "    start_end_ret = httpx.post('https://m.suanya.com/restapi/soa2/14666/json/GetTrainStopListV3',\n",
    "                               headers={\n",
    "                                   \"authority\": \"m.suanya.com\",\n",
    "                                   \"accept\": \"*/*\",\n",
    "                                   \"accept-language\": \"zh-CN,zh;q=0.9,en;q=0.8,en-GB;q=0.7,en-US;q=0.6\",\n",
    "                                   \"cache-control\": \"max-age=0\",\n",
    "                                   \"content-type\": \"application/x-www-form-urlencoded; charset=UTF-8\",\n",
    "                                   \"if-modified-since\": \"Thu, 01 Jan 1970 00:00:00 GMT\",\n",
    "                                   \"origin\": \"https://www.suanya.com\",\n",
    "                                   \"referer\": \"https://www.suanya.com/\",\n",
    "                                   \"sec-ch-ua\": '\"Not A(Brand\";v=\"99\", \"Microsoft Edge\";v=\"121\", \"Chromium\";v=\"121\"',\n",
    "                                   \"sec-ch-ua-mobile\": \"?0\",\n",
    "                                   \"sec-ch-ua-platform\": '\"Windows\"',\n",
    "                                   \"sec-fetch-dest\": \"empty\",\n",
    "                                   \"sec-fetch-mode\": \"cors\",\n",
    "                                   \"sec-fetch-site\": \"same-site\"\n",
    "                               },\n",
    "                               data={\n",
    "                                   \"TrainName\": train_name,\n",
    "                                   \"DepartStation\": start_station,\n",
    "                                   \"ArrStation\": end_station,\n",
    "                                   \"DepartureDate\": date\n",
    "                               }\n",
    "                               )\n",
    "    text = start_end_ret.text\n",
    "    data = orjson.loads(text)\n",
    "    train_stop_list = data[\"TrainStopList\"]\n",
    "    return train_stop_list"
   ]
  },
  {
   "cell_type": "markdown",
   "id": "f2bd6256f8eca47",
   "metadata": {
    "collapsed": false
   },
   "source": [
    "## 输出 : 从赣榆到上海的需要的车次信息\n"
   ]
  },
  {
   "cell_type": "code",
   "execution_count": 3,
   "id": "687c412889097a01",
   "metadata": {
    "collapsed": false,
    "ExecuteTime": {
     "end_time": "2024-02-08T03:19:11.945750Z",
     "start_time": "2024-02-08T03:19:11.791433Z"
    }
   },
   "outputs": [
    {
     "name": "stdout",
     "output_type": "stream",
     "text": [
      "{\"ResponseStatus\":{\"Timestamp\":\"/Date(1707362375351+0800)/\",\"Ack\":\"Success\",\"Errors\":[],\"Build\":null,\"Version\":null,\"Extension\":[{\"Id\":\"app_cat_id\",\"Version\":null,\"ContentType\":null,\"Value\":\"100025527-0a3d52de-474267-577458\"},{\"Id\":\"CLOGGING_TRACE_ID\",\"Version\":null,\"ContentType\":null,\"Value\":\"2385098836529147200\"},{\"Id\":\"RootMessageId\",\"Version\":null,\"ContentType\":null,\"Value\":\"100025527-0a3d52de-474267-577457\"}]},\"ResponseBody\":{\"ResponseStatus\":null,\"DepartureSearchPinYin\":\"changzhou\",\"DepartureSearchPinYinV2\":null,\"DepartureSearchName\":\"赣榆\",\"ArrivalSearchPinYin\":\"ganyu\",\"ArrivalSearchPinYinV2\":null,\"ArrivalSearchName\":\"常州\",\"DepartureDate\":\"/Date(1708272000000+0800)/\",\"BookingSystemType\":0,\"DepartureCity\":{\"CtripCityID\":21404,\"CityName\":\"赣榆\",\"CityNameEn\":null,\"CityCode\":\"\"},\"ArriveCity\":{\"CtripCityID\":213,\"CityName\":\"常州\",\"CityNameEn\":null,\"CityCode\":\"CZX\"},\"TrainItems\":[{\"TrainID\":0,\"TrainName\":\"D2923\",\"TrainShortName\":\"D\",\"Bookable\":false,\"OnlineDisplay\":false,\"OfflineDisplay\":false,\"TrainTypeID\":0,\"TrainTypeName\":null,\"TrainTypeShortName\":\"D\",\"StartStationID\":0,\"StartStationName\":\"赣榆\",\"EndStationID\":0,\"EndStationName\":\"常州\",\"StartTime\":\"10:11\",\"EndTime\":\"13:33\",\"TotalDistance\":0,\"TotalTakeDays\":0,\"IsDirect\":false,\"UseTime\":202,\"PreSaleTime\":null,\"IsStartStation\":false,\"IsEndStation\":false,\"PreSaleDay\":14,\"IsSaleStop\":false,\"NoteRemark\":null,\"IsSupportCard\":\"1\",\"TicketResult\":{\"DepartureStationID\":0,\"DepartureStationName\":\"赣榆\",\"ArrivalStationID\":0,\"ArrivalStationName\":\"常州\",\"DepartureTime\":\"10:11\",\"ArrivalTime\":\"13:33\",\"Distance\":0,\"TakeDays\":0,\"TrainShortName\":null,\"DepartureStationPinyin\":null,\"ArrivalStationPinyin\":null,\"DepartureIsStart\":false,\"ArrivalIsEnd\":false,\"TicketItems\":[{\"TicketID\":0,\"Bookable\":false,\"SeatTypeID\":0,\"SeatTypeName\":\"二等座\",\"Price\":171,\"ShowPrice\":171,\"Inventory\":0},{\"TicketID\":0,\"Bookable\":false,\"SeatTypeID\":0,\"SeatTypeName\":\"一等座\",\"Price\":274,\"ShowPrice\":274,\"Inventory\":0},{\"TicketID\":0,\"Bookable\":false,\"SeatTypeID\":0,\"SeatTypeName\":\"无座\",\"Price\":171,\"ShowPrice\":171,\"Inventory\":0}]},\"IsCanHB\":true},{\"TrainID\":0,\"TrainName\":\"G7585\",\"TrainShortName\":\"G\",\"Bookable\":true,\"OnlineDisplay\":false,\"OfflineDisplay\":false,\"TrainTypeID\":0,\"TrainTypeName\":null,\"TrainTypeShortName\":\"G\",\"StartStationID\":0,\"StartStationName\":\"赣榆\",\"EndStationID\":0,\"EndStationName\":\"常州\",\"StartTime\":\"13:03\",\"EndTime\":\"15:53\",\"TotalDistance\":0,\"TotalTakeDays\":0,\"IsDirect\":false,\"UseTime\":170,\"PreSaleTime\":null,\"IsStartStation\":true,\"IsEndStation\":false,\"PreSaleDay\":14,\"IsSaleStop\":false,\"NoteRemark\":null,\"IsSupportCard\":\"1\",\"TicketResult\":{\"DepartureStationID\":0,\"DepartureStationName\":\"赣榆\",\"ArrivalStationID\":0,\"ArrivalStationName\":\"常州\",\"DepartureTime\":\"13:03\",\"ArrivalTime\":\"15:53\",\"Distance\":0,\"TakeDays\":0,\"TrainShortName\":null,\"DepartureStationPinyin\":null,\"ArrivalStationPinyin\":null,\"DepartureIsStart\":false,\"ArrivalIsEnd\":false,\"TicketItems\":[{\"TicketID\":0,\"Bookable\":true,\"SeatTypeID\":0,\"SeatTypeName\":\"二等座\",\"Price\":199,\"ShowPrice\":199,\"Inventory\":99},{\"TicketID\":0,\"Bookable\":false,\"SeatTypeID\":0,\"SeatTypeName\":\"一等座\",\"Price\":318,\"ShowPrice\":318,\"Inventory\":0},{\"TicketID\":0,\"Bookable\":false,\"SeatTypeID\":0,\"SeatTypeName\":\"无座\",\"Price\":199,\"ShowPrice\":199,\"Inventory\":0}]},\"IsCanHB\":true},{\"TrainID\":0,\"TrainName\":\"D2927\",\"TrainShortName\":\"D\",\"Bookable\":false,\"OnlineDisplay\":false,\"OfflineDisplay\":false,\"TrainTypeID\":0,\"TrainTypeName\":null,\"TrainTypeShortName\":\"D\",\"StartStationID\":0,\"StartStationName\":\"赣榆\",\"EndStationID\":0,\"EndStationName\":\"常州\",\"StartTime\":\"18:22\",\"EndTime\":\"21:28\",\"TotalDistance\":0,\"TotalTakeDays\":0,\"IsDirect\":false,\"UseTime\":186,\"PreSaleTime\":null,\"IsStartStation\":false,\"IsEndStation\":false,\"PreSaleDay\":14,\"IsSaleStop\":false,\"NoteRemark\":null,\"IsSupportCard\":\"1\",\"TicketResult\":{\"DepartureStationID\":0,\"DepartureStationName\":\"赣榆\",\"ArrivalStationID\":0,\"ArrivalStationName\":\"常州\",\"DepartureTime\":\"18:22\",\"ArrivalTime\":\"21:28\",\"Distance\":0,\"TakeDays\":0,\"TrainShortName\":null,\"DepartureStationPinyin\":null,\"ArrivalStationPinyin\":null,\"DepartureIsStart\":false,\"ArrivalIsEnd\":false,\"TicketItems\":[{\"TicketID\":0,\"Bookable\":false,\"SeatTypeID\":0,\"SeatTypeName\":\"二等座\",\"Price\":189,\"ShowPrice\":189,\"Inventory\":0},{\"TicketID\":0,\"Bookable\":false,\"SeatTypeID\":0,\"SeatTypeName\":\"一等座\",\"Price\":301,\"ShowPrice\":301,\"Inventory\":0},{\"TicketID\":0,\"Bookable\":false,\"SeatTypeID\":0,\"SeatTypeName\":\"无座\",\"Price\":189,\"ShowPrice\":189,\"Inventory\":0}]},\"IsCanHB\":true},{\"TrainID\":0,\"TrainName\":\"D1667\",\"TrainShortName\":\"D\",\"Bookable\":false,\"OnlineDisplay\":false,\"OfflineDisplay\":false,\"TrainTypeID\":0,\"TrainTypeName\":null,\"TrainTypeShortName\":\"D\",\"StartStationID\":0,\"StartStationName\":\"赣榆\",\"EndStationID\":0,\"EndStationName\":\"常州\",\"StartTime\":\"19:00\",\"EndTime\":\"21:50\",\"TotalDistance\":0,\"TotalTakeDays\":0,\"IsDirect\":false,\"UseTime\":170,\"PreSaleTime\":null,\"IsStartStation\":false,\"IsEndStation\":false,\"PreSaleDay\":14,\"IsSaleStop\":false,\"NoteRemark\":null,\"IsSupportCard\":\"1\",\"TicketResult\":{\"DepartureStationID\":0,\"DepartureStationName\":\"赣榆\",\"ArrivalStationID\":0,\"ArrivalStationName\":\"常州\",\"DepartureTime\":\"19:00\",\"ArrivalTime\":\"21:50\",\"Distance\":0,\"TakeDays\":0,\"TrainShortName\":null,\"DepartureStationPinyin\":null,\"ArrivalStationPinyin\":null,\"DepartureIsStart\":false,\"ArrivalIsEnd\":false,\"TicketItems\":[{\"TicketID\":0,\"Bookable\":false,\"SeatTypeID\":0,\"SeatTypeName\":\"二等座\",\"Price\":183,\"ShowPrice\":183,\"Inventory\":0},{\"TicketID\":0,\"Bookable\":false,\"SeatTypeID\":0,\"SeatTypeName\":\"一等座\",\"Price\":290,\"ShowPrice\":290,\"Inventory\":0},{\"TicketID\":0,\"Bookable\":false,\"SeatTypeID\":0,\"SeatTypeName\":\"无座\",\"Price\":183,\"ShowPrice\":183,\"Inventory\":0}]},\"IsCanHB\":true}]}}\n"
     ]
    }
   ],
   "source": [
    "response = httpx.post('https://m.suanya.com/restapi/soa2/14666/json/GetBookingByStationV3ForPC',\n",
    "                      headers={\n",
    "                          \"authority\": \"m.suanya.com\",\n",
    "                          \"accept\": \"*/*\",\n",
    "                          \"accept-language\": \"zh-CN,zh;q=0.9,en;q=0.8,en-GB;q=0.7,en-US;q=0.6\",\n",
    "                          \"cache-control\": \"max-age=0\",\n",
    "                          \"content-type\": \"application/x-www-form-urlencoded; charset=UTF-8\",\n",
    "                          \"if-modified-since\": \"Thu, 01 Jan 1970 00:00:00 GMT\",\n",
    "                          \"origin\": \"https://www.suanya.com\",\n",
    "                          \"referer\": \"https://www.suanya.com/\",\n",
    "                          \"sec-ch-ua\": '\"Not A(Brand\";v=\"99\", \"Microsoft Edge\";v=\"121\", \"Chromium\";v=\"121\"',\n",
    "                          \"sec-ch-ua-mobile\": \"?0\",\n",
    "                          \"sec-ch-ua-platform\": '\"Windows\"',\n",
    "                          \"sec-fetch-dest\": \"empty\",\n",
    "                          \"sec-fetch-mode\": \"cors\",\n",
    "                          \"sec-fetch-site\": \"same-site\"\n",
    "                      },\n",
    "                      data={\n",
    "                          \"ArriveStation\": station_end,\n",
    "                          \"ChannelName\": \"ctrip.pc\",\n",
    "                          \"DepartDate\": date,\n",
    "                          \"DepartStation\": station_start\n",
    "                      }\n",
    "                      )\n",
    "print(response.text)"
   ]
  },
  {
   "cell_type": "code",
   "execution_count": 4,
   "id": "9f7ac9937572c3d8",
   "metadata": {
    "collapsed": false,
    "ExecuteTime": {
     "end_time": "2024-02-08T03:19:11.979097Z",
     "start_time": "2024-02-08T03:19:11.949059Z"
    }
   },
   "outputs": [
    {
     "data": {
      "text/plain": "  起点站 终点站     车次   开始时间   结束时间       耗时  一等座价格  一等座余票量  二等座价格  二等座余票量\n0  赣榆  常州  D2923  10:11  13:33  3小时22分钟    274       0    171       0",
      "text/html": "<div>\n<style scoped>\n    .dataframe tbody tr th:only-of-type {\n        vertical-align: middle;\n    }\n\n    .dataframe tbody tr th {\n        vertical-align: top;\n    }\n\n    .dataframe thead th {\n        text-align: right;\n    }\n</style>\n<table border=\"1\" class=\"dataframe\">\n  <thead>\n    <tr style=\"text-align: right;\">\n      <th></th>\n      <th>起点站</th>\n      <th>终点站</th>\n      <th>车次</th>\n      <th>开始时间</th>\n      <th>结束时间</th>\n      <th>耗时</th>\n      <th>一等座价格</th>\n      <th>一等座余票量</th>\n      <th>二等座价格</th>\n      <th>二等座余票量</th>\n    </tr>\n  </thead>\n  <tbody>\n    <tr>\n      <th>0</th>\n      <td>赣榆</td>\n      <td>常州</td>\n      <td>D2923</td>\n      <td>10:11</td>\n      <td>13:33</td>\n      <td>3小时22分钟</td>\n      <td>274</td>\n      <td>0</td>\n      <td>171</td>\n      <td>0</td>\n    </tr>\n  </tbody>\n</table>\n</div>"
     },
     "execution_count": 4,
     "metadata": {},
     "output_type": "execute_result"
    }
   ],
   "source": [
    "# 使用orgjson格式化输出 \n",
    "text = response.text\n",
    "data = orjson.loads(text)\n",
    "TrainItems_all = data[\"ResponseBody\"][\"TrainItems\"]\n",
    "\n",
    "# filter_train_names\n",
    "TrainItems = [item for item in TrainItems_all if item[\"TrainName\"] in filter_train_names]\n",
    "\n",
    "train_items_df = transform_booking_train_items_info_to_dataframe(TrainItems)\n",
    "train_items_df.insert(0, \"起点站\", station_start)\n",
    "train_items_df.insert(1, \"终点站\", station_end)\n",
    "train_items_df"
   ]
  },
  {
   "cell_type": "markdown",
   "id": "7b7ee48cba784d89",
   "metadata": {
    "collapsed": false
   },
   "source": [
    "# 使用车次一个进行流程测试, 查询从赣榆到上海的 d2131 的车次的所有的停靠站信息\n",
    "\n",
    "`输出` : item_stop_list_stations\n"
   ]
  },
  {
   "cell_type": "code",
   "execution_count": 5,
   "id": "d12bb42cffc0e5a9",
   "metadata": {
    "collapsed": false,
    "ExecuteTime": {
     "end_time": "2024-02-08T03:19:12.468627Z",
     "start_time": "2024-02-08T03:19:11.958532Z"
    }
   },
   "outputs": [
    {
     "data": {
      "text/plain": "       车次  StationSequence StationName DepartureTime ArrivalTime  StopTimes  \\\n0   D2923                1          荣成         06:23       06:23          0   \n1   D2923                2          威海         06:42       06:40          2   \n2   D2923                3         威海北         06:51       06:49          2   \n3   D2923                4         烟台南         07:13       07:11          2   \n4   D2923                5          莱阳         07:42       07:40          2   \n5   D2923                6         即墨北         08:05       08:03          2   \n6   D2923                7          红岛         08:29       08:27          2   \n7   D2923                8         青岛西         08:55       08:52          3   \n8   D2923                9         董家口         09:12       09:10          2   \n9   D2923               10         日照西         09:40       09:31          9   \n10  D2923               11          赣榆         10:11       10:09          2   \n11  D2923               12         连云港         10:34       10:27          7   \n12  D2923               13          灌云         10:57       10:55          2   \n13  D2923               14          灌南         11:16       11:07          9   \n14  D2923               15          涟水         11:38       11:30          8   \n15  D2923               16         淮安东         11:54       11:50          4   \n16  D2923               17          宝应         12:11       12:09          2   \n17  D2923               18         扬州东         12:42       12:39          3   \n18  D2923               19          丹阳         13:17       13:11          6   \n19  D2923               20          常州         13:35       13:33          2   \n20  D2923               21          无锡         13:52       13:50          2   \n21  D2923               22          苏州         14:10       14:07          3   \n22  D2923               23        上海虹桥         14:41       14:41          0   \n\n    DistanceFromStart  \n0                   0  \n1                   0  \n2                   0  \n3                   0  \n4                   0  \n5                   0  \n6                   0  \n7                   0  \n8                   0  \n9                   0  \n10                  0  \n11                  0  \n12                  0  \n13                  0  \n14                  0  \n15                  0  \n16                  0  \n17                  0  \n18                  0  \n19                  0  \n20                  0  \n21                  0  \n22                  0  ",
      "text/html": "<div>\n<style scoped>\n    .dataframe tbody tr th:only-of-type {\n        vertical-align: middle;\n    }\n\n    .dataframe tbody tr th {\n        vertical-align: top;\n    }\n\n    .dataframe thead th {\n        text-align: right;\n    }\n</style>\n<table border=\"1\" class=\"dataframe\">\n  <thead>\n    <tr style=\"text-align: right;\">\n      <th></th>\n      <th>车次</th>\n      <th>StationSequence</th>\n      <th>StationName</th>\n      <th>DepartureTime</th>\n      <th>ArrivalTime</th>\n      <th>StopTimes</th>\n      <th>DistanceFromStart</th>\n    </tr>\n  </thead>\n  <tbody>\n    <tr>\n      <th>0</th>\n      <td>D2923</td>\n      <td>1</td>\n      <td>荣成</td>\n      <td>06:23</td>\n      <td>06:23</td>\n      <td>0</td>\n      <td>0</td>\n    </tr>\n    <tr>\n      <th>1</th>\n      <td>D2923</td>\n      <td>2</td>\n      <td>威海</td>\n      <td>06:42</td>\n      <td>06:40</td>\n      <td>2</td>\n      <td>0</td>\n    </tr>\n    <tr>\n      <th>2</th>\n      <td>D2923</td>\n      <td>3</td>\n      <td>威海北</td>\n      <td>06:51</td>\n      <td>06:49</td>\n      <td>2</td>\n      <td>0</td>\n    </tr>\n    <tr>\n      <th>3</th>\n      <td>D2923</td>\n      <td>4</td>\n      <td>烟台南</td>\n      <td>07:13</td>\n      <td>07:11</td>\n      <td>2</td>\n      <td>0</td>\n    </tr>\n    <tr>\n      <th>4</th>\n      <td>D2923</td>\n      <td>5</td>\n      <td>莱阳</td>\n      <td>07:42</td>\n      <td>07:40</td>\n      <td>2</td>\n      <td>0</td>\n    </tr>\n    <tr>\n      <th>5</th>\n      <td>D2923</td>\n      <td>6</td>\n      <td>即墨北</td>\n      <td>08:05</td>\n      <td>08:03</td>\n      <td>2</td>\n      <td>0</td>\n    </tr>\n    <tr>\n      <th>6</th>\n      <td>D2923</td>\n      <td>7</td>\n      <td>红岛</td>\n      <td>08:29</td>\n      <td>08:27</td>\n      <td>2</td>\n      <td>0</td>\n    </tr>\n    <tr>\n      <th>7</th>\n      <td>D2923</td>\n      <td>8</td>\n      <td>青岛西</td>\n      <td>08:55</td>\n      <td>08:52</td>\n      <td>3</td>\n      <td>0</td>\n    </tr>\n    <tr>\n      <th>8</th>\n      <td>D2923</td>\n      <td>9</td>\n      <td>董家口</td>\n      <td>09:12</td>\n      <td>09:10</td>\n      <td>2</td>\n      <td>0</td>\n    </tr>\n    <tr>\n      <th>9</th>\n      <td>D2923</td>\n      <td>10</td>\n      <td>日照西</td>\n      <td>09:40</td>\n      <td>09:31</td>\n      <td>9</td>\n      <td>0</td>\n    </tr>\n    <tr>\n      <th>10</th>\n      <td>D2923</td>\n      <td>11</td>\n      <td>赣榆</td>\n      <td>10:11</td>\n      <td>10:09</td>\n      <td>2</td>\n      <td>0</td>\n    </tr>\n    <tr>\n      <th>11</th>\n      <td>D2923</td>\n      <td>12</td>\n      <td>连云港</td>\n      <td>10:34</td>\n      <td>10:27</td>\n      <td>7</td>\n      <td>0</td>\n    </tr>\n    <tr>\n      <th>12</th>\n      <td>D2923</td>\n      <td>13</td>\n      <td>灌云</td>\n      <td>10:57</td>\n      <td>10:55</td>\n      <td>2</td>\n      <td>0</td>\n    </tr>\n    <tr>\n      <th>13</th>\n      <td>D2923</td>\n      <td>14</td>\n      <td>灌南</td>\n      <td>11:16</td>\n      <td>11:07</td>\n      <td>9</td>\n      <td>0</td>\n    </tr>\n    <tr>\n      <th>14</th>\n      <td>D2923</td>\n      <td>15</td>\n      <td>涟水</td>\n      <td>11:38</td>\n      <td>11:30</td>\n      <td>8</td>\n      <td>0</td>\n    </tr>\n    <tr>\n      <th>15</th>\n      <td>D2923</td>\n      <td>16</td>\n      <td>淮安东</td>\n      <td>11:54</td>\n      <td>11:50</td>\n      <td>4</td>\n      <td>0</td>\n    </tr>\n    <tr>\n      <th>16</th>\n      <td>D2923</td>\n      <td>17</td>\n      <td>宝应</td>\n      <td>12:11</td>\n      <td>12:09</td>\n      <td>2</td>\n      <td>0</td>\n    </tr>\n    <tr>\n      <th>17</th>\n      <td>D2923</td>\n      <td>18</td>\n      <td>扬州东</td>\n      <td>12:42</td>\n      <td>12:39</td>\n      <td>3</td>\n      <td>0</td>\n    </tr>\n    <tr>\n      <th>18</th>\n      <td>D2923</td>\n      <td>19</td>\n      <td>丹阳</td>\n      <td>13:17</td>\n      <td>13:11</td>\n      <td>6</td>\n      <td>0</td>\n    </tr>\n    <tr>\n      <th>19</th>\n      <td>D2923</td>\n      <td>20</td>\n      <td>常州</td>\n      <td>13:35</td>\n      <td>13:33</td>\n      <td>2</td>\n      <td>0</td>\n    </tr>\n    <tr>\n      <th>20</th>\n      <td>D2923</td>\n      <td>21</td>\n      <td>无锡</td>\n      <td>13:52</td>\n      <td>13:50</td>\n      <td>2</td>\n      <td>0</td>\n    </tr>\n    <tr>\n      <th>21</th>\n      <td>D2923</td>\n      <td>22</td>\n      <td>苏州</td>\n      <td>14:10</td>\n      <td>14:07</td>\n      <td>3</td>\n      <td>0</td>\n    </tr>\n    <tr>\n      <th>22</th>\n      <td>D2923</td>\n      <td>23</td>\n      <td>上海虹桥</td>\n      <td>14:41</td>\n      <td>14:41</td>\n      <td>0</td>\n      <td>0</td>\n    </tr>\n  </tbody>\n</table>\n</div>"
     },
     "execution_count": 5,
     "metadata": {},
     "output_type": "execute_result"
    }
   ],
   "source": [
    "train_item = TrainItems[0]\n",
    "# 获取二等座价格\n",
    "train_item_second_price = next(\n",
    "    (ticket[\"Price\"] for ticket in train_item[\"TicketResult\"][\"TicketItems\"] if ticket[\"SeatTypeName\"] == \"二等座\"),\n",
    "    None)\n",
    "transform_booking_train_items_info_to_dataframe([train_item])\n",
    "\n",
    "item_stop_list_stations = query_stop_station_list(train_item[\"TrainName\"], date, station_start, station_end)\n",
    "\n",
    "item_stop_list_station_df = pd.DataFrame(item_stop_list_stations)\n",
    "item_stop_list_station_df.insert(0, \"车次\", train_item[\"TrainName\"])\n",
    "item_stop_list_station_df"
   ]
  },
  {
   "cell_type": "markdown",
   "id": "3affd5dda4aeeea0",
   "metadata": {
    "collapsed": false
   },
   "source": [
    "# stationName 和始发站的映射关系的映射关系\n"
   ]
  },
  {
   "cell_type": "code",
   "execution_count": 6,
   "id": "26767323efed25ff",
   "metadata": {
    "collapsed": false,
    "ExecuteTime": {
     "end_time": "2024-02-08T03:19:12.470285Z",
     "start_time": "2024-02-08T03:19:12.091781Z"
    }
   },
   "outputs": [
    {
     "data": {
      "text/plain": "       车次    站名   出发时间\n0   D2923    荣成  06:23\n1   D2923    威海  06:42\n2   D2923   威海北  06:51\n3   D2923   烟台南  07:13\n4   D2923    莱阳  07:42\n5   D2923   即墨北  08:05\n6   D2923    红岛  08:29\n7   D2923   青岛西  08:55\n8   D2923   董家口  09:12\n9   D2923   日照西  09:40\n10  D2923    赣榆  10:11\n11  D2923   连云港  10:34\n12  D2923    灌云  10:57\n13  D2923    灌南  11:16\n14  D2923    涟水  11:38\n15  D2923   淮安东  11:54\n16  D2923    宝应  12:11\n17  D2923   扬州东  12:42\n18  D2923    丹阳  13:17\n19  D2923    常州  13:35\n20  D2923    无锡  13:52\n21  D2923    苏州  14:10\n22  D2923  上海虹桥  14:41",
      "text/html": "<div>\n<style scoped>\n    .dataframe tbody tr th:only-of-type {\n        vertical-align: middle;\n    }\n\n    .dataframe tbody tr th {\n        vertical-align: top;\n    }\n\n    .dataframe thead th {\n        text-align: right;\n    }\n</style>\n<table border=\"1\" class=\"dataframe\">\n  <thead>\n    <tr style=\"text-align: right;\">\n      <th></th>\n      <th>车次</th>\n      <th>站名</th>\n      <th>出发时间</th>\n    </tr>\n  </thead>\n  <tbody>\n    <tr>\n      <th>0</th>\n      <td>D2923</td>\n      <td>荣成</td>\n      <td>06:23</td>\n    </tr>\n    <tr>\n      <th>1</th>\n      <td>D2923</td>\n      <td>威海</td>\n      <td>06:42</td>\n    </tr>\n    <tr>\n      <th>2</th>\n      <td>D2923</td>\n      <td>威海北</td>\n      <td>06:51</td>\n    </tr>\n    <tr>\n      <th>3</th>\n      <td>D2923</td>\n      <td>烟台南</td>\n      <td>07:13</td>\n    </tr>\n    <tr>\n      <th>4</th>\n      <td>D2923</td>\n      <td>莱阳</td>\n      <td>07:42</td>\n    </tr>\n    <tr>\n      <th>5</th>\n      <td>D2923</td>\n      <td>即墨北</td>\n      <td>08:05</td>\n    </tr>\n    <tr>\n      <th>6</th>\n      <td>D2923</td>\n      <td>红岛</td>\n      <td>08:29</td>\n    </tr>\n    <tr>\n      <th>7</th>\n      <td>D2923</td>\n      <td>青岛西</td>\n      <td>08:55</td>\n    </tr>\n    <tr>\n      <th>8</th>\n      <td>D2923</td>\n      <td>董家口</td>\n      <td>09:12</td>\n    </tr>\n    <tr>\n      <th>9</th>\n      <td>D2923</td>\n      <td>日照西</td>\n      <td>09:40</td>\n    </tr>\n    <tr>\n      <th>10</th>\n      <td>D2923</td>\n      <td>赣榆</td>\n      <td>10:11</td>\n    </tr>\n    <tr>\n      <th>11</th>\n      <td>D2923</td>\n      <td>连云港</td>\n      <td>10:34</td>\n    </tr>\n    <tr>\n      <th>12</th>\n      <td>D2923</td>\n      <td>灌云</td>\n      <td>10:57</td>\n    </tr>\n    <tr>\n      <th>13</th>\n      <td>D2923</td>\n      <td>灌南</td>\n      <td>11:16</td>\n    </tr>\n    <tr>\n      <th>14</th>\n      <td>D2923</td>\n      <td>涟水</td>\n      <td>11:38</td>\n    </tr>\n    <tr>\n      <th>15</th>\n      <td>D2923</td>\n      <td>淮安东</td>\n      <td>11:54</td>\n    </tr>\n    <tr>\n      <th>16</th>\n      <td>D2923</td>\n      <td>宝应</td>\n      <td>12:11</td>\n    </tr>\n    <tr>\n      <th>17</th>\n      <td>D2923</td>\n      <td>扬州东</td>\n      <td>12:42</td>\n    </tr>\n    <tr>\n      <th>18</th>\n      <td>D2923</td>\n      <td>丹阳</td>\n      <td>13:17</td>\n    </tr>\n    <tr>\n      <th>19</th>\n      <td>D2923</td>\n      <td>常州</td>\n      <td>13:35</td>\n    </tr>\n    <tr>\n      <th>20</th>\n      <td>D2923</td>\n      <td>无锡</td>\n      <td>13:52</td>\n    </tr>\n    <tr>\n      <th>21</th>\n      <td>D2923</td>\n      <td>苏州</td>\n      <td>14:10</td>\n    </tr>\n    <tr>\n      <th>22</th>\n      <td>D2923</td>\n      <td>上海虹桥</td>\n      <td>14:41</td>\n    </tr>\n  </tbody>\n</table>\n</div>"
     },
     "execution_count": 6,
     "metadata": {},
     "output_type": "execute_result"
    }
   ],
   "source": [
    "# stationName和始发站的映射关系的映射关系\n",
    "item_stop_list_station_name_departure_dict = {item[\"StationName\"]: item[\"DepartureTime\"] for item in\n",
    "                                              item_stop_list_stations}\n",
    "\n",
    "item_stop_list_station_name_departure_dict_df = pd.DataFrame(item_stop_list_station_name_departure_dict.items(),\n",
    "                                                             columns=[\"站名\", \"出发时间\"])\n",
    "# 增加车次列在开头\n",
    "item_stop_list_station_name_departure_dict_df.insert(0, \"车次\", train_item[\"TrainName\"])\n",
    "item_stop_list_station_name_departure_dict_df"
   ]
  },
  {
   "cell_type": "markdown",
   "id": "9342a358263dfebb",
   "metadata": {
    "collapsed": false
   },
   "source": [
    "> 由于一辆车次在不同的起点, 车次的名称不一样. 需要确定停靠站的每一列的车次名称.\n",
    "> 分成三块 起点 : 上车站点 : 终点站 . 需要从[起始点, 上车站点] 和 (上车站点, 终点站] 两个列表中找出车次名称做叉乘, 得到所有的车次名称\n"
   ]
  },
  {
   "cell_type": "code",
   "execution_count": 7,
   "id": "94f74fda6dbbfe2a",
   "metadata": {
    "collapsed": false,
    "ExecuteTime": {
     "end_time": "2024-02-08T03:19:12.471191Z",
     "start_time": "2024-02-08T03:19:12.095822Z"
    }
   },
   "outputs": [
    {
     "data": {
      "text/plain": "      站名\n0     荣成\n1     威海\n2    威海北\n3    烟台南\n4     莱阳\n5    即墨北\n6     红岛\n7    青岛西\n8    董家口\n9    日照西\n10    赣榆\n11   连云港\n12    灌云\n13    灌南\n14    涟水\n15   淮安东\n16    宝应\n17   扬州东\n18    丹阳\n19    常州\n20    无锡\n21    苏州\n22  上海虹桥",
      "text/html": "<div>\n<style scoped>\n    .dataframe tbody tr th:only-of-type {\n        vertical-align: middle;\n    }\n\n    .dataframe tbody tr th {\n        vertical-align: top;\n    }\n\n    .dataframe thead th {\n        text-align: right;\n    }\n</style>\n<table border=\"1\" class=\"dataframe\">\n  <thead>\n    <tr style=\"text-align: right;\">\n      <th></th>\n      <th>站名</th>\n    </tr>\n  </thead>\n  <tbody>\n    <tr>\n      <th>0</th>\n      <td>荣成</td>\n    </tr>\n    <tr>\n      <th>1</th>\n      <td>威海</td>\n    </tr>\n    <tr>\n      <th>2</th>\n      <td>威海北</td>\n    </tr>\n    <tr>\n      <th>3</th>\n      <td>烟台南</td>\n    </tr>\n    <tr>\n      <th>4</th>\n      <td>莱阳</td>\n    </tr>\n    <tr>\n      <th>5</th>\n      <td>即墨北</td>\n    </tr>\n    <tr>\n      <th>6</th>\n      <td>红岛</td>\n    </tr>\n    <tr>\n      <th>7</th>\n      <td>青岛西</td>\n    </tr>\n    <tr>\n      <th>8</th>\n      <td>董家口</td>\n    </tr>\n    <tr>\n      <th>9</th>\n      <td>日照西</td>\n    </tr>\n    <tr>\n      <th>10</th>\n      <td>赣榆</td>\n    </tr>\n    <tr>\n      <th>11</th>\n      <td>连云港</td>\n    </tr>\n    <tr>\n      <th>12</th>\n      <td>灌云</td>\n    </tr>\n    <tr>\n      <th>13</th>\n      <td>灌南</td>\n    </tr>\n    <tr>\n      <th>14</th>\n      <td>涟水</td>\n    </tr>\n    <tr>\n      <th>15</th>\n      <td>淮安东</td>\n    </tr>\n    <tr>\n      <th>16</th>\n      <td>宝应</td>\n    </tr>\n    <tr>\n      <th>17</th>\n      <td>扬州东</td>\n    </tr>\n    <tr>\n      <th>18</th>\n      <td>丹阳</td>\n    </tr>\n    <tr>\n      <th>19</th>\n      <td>常州</td>\n    </tr>\n    <tr>\n      <th>20</th>\n      <td>无锡</td>\n    </tr>\n    <tr>\n      <th>21</th>\n      <td>苏州</td>\n    </tr>\n    <tr>\n      <th>22</th>\n      <td>上海虹桥</td>\n    </tr>\n  </tbody>\n</table>\n</div>"
     },
     "execution_count": 7,
     "metadata": {},
     "output_type": "execute_result"
    }
   ],
   "source": [
    "# [起始点, 上车站点] 和 (上车站点, 终点站] 两个列表中找出车次名称做叉乘, 得到所有的车次名称\n",
    "item_stop_station_names = [item[\"StationName\"] for item in item_stop_list_stations]\n",
    "# item_stop_station_names转成df \n",
    "pd.DataFrame(item_stop_station_names, columns=[\"站名\"])"
   ]
  },
  {
   "cell_type": "markdown",
   "id": "6b1725084656c824",
   "metadata": {
    "collapsed": false
   },
   "source": [
    "从[起始点, 上车站点] 和 (上车站点, 终点站] 两个列表中找出车次名称做叉乘, 得到所有的车次名称\n",
    "`输出` : xlist\n"
   ]
  },
  {
   "cell_type": "code",
   "execution_count": 8,
   "id": "d2052af4f3678a90",
   "metadata": {
    "collapsed": false,
    "ExecuteTime": {
     "end_time": "2024-02-08T03:19:12.478679Z",
     "start_time": "2024-02-08T03:19:12.103085Z"
    }
   },
   "outputs": [
    {
     "name": "stdout",
     "output_type": "stream",
     "text": [
      "0 10 19\n"
     ]
    },
    {
     "data": {
      "text/plain": "     原始车次   起点   终点\n0   D2923   荣成  连云港\n1   D2923   荣成   灌云\n2   D2923   荣成   灌南\n3   D2923   荣成   涟水\n4   D2923   荣成  淮安东\n5   D2923   荣成   宝应\n6   D2923   荣成  扬州东\n7   D2923   荣成   丹阳\n8   D2923   威海  连云港\n9   D2923   威海   灌云\n10  D2923   威海   灌南\n11  D2923   威海   涟水\n12  D2923   威海  淮安东\n13  D2923   威海   宝应\n14  D2923   威海  扬州东\n15  D2923   威海   丹阳\n16  D2923  威海北  连云港\n17  D2923  威海北   灌云\n18  D2923  威海北   灌南\n19  D2923  威海北   涟水\n20  D2923  威海北  淮安东\n21  D2923  威海北   宝应\n22  D2923  威海北  扬州东\n23  D2923  威海北   丹阳\n24  D2923  烟台南  连云港\n25  D2923  烟台南   灌云\n26  D2923  烟台南   灌南\n27  D2923  烟台南   涟水\n28  D2923  烟台南  淮安东\n29  D2923  烟台南   宝应\n30  D2923  烟台南  扬州东\n31  D2923  烟台南   丹阳\n32  D2923   莱阳  连云港\n33  D2923   莱阳   灌云\n34  D2923   莱阳   灌南\n35  D2923   莱阳   涟水\n36  D2923   莱阳  淮安东\n37  D2923   莱阳   宝应\n38  D2923   莱阳  扬州东\n39  D2923   莱阳   丹阳\n40  D2923  即墨北  连云港\n41  D2923  即墨北   灌云\n42  D2923  即墨北   灌南\n43  D2923  即墨北   涟水\n44  D2923  即墨北  淮安东\n45  D2923  即墨北   宝应\n46  D2923  即墨北  扬州东\n47  D2923  即墨北   丹阳\n48  D2923   红岛  连云港\n49  D2923   红岛   灌云\n50  D2923   红岛   灌南\n51  D2923   红岛   涟水\n52  D2923   红岛  淮安东\n53  D2923   红岛   宝应\n54  D2923   红岛  扬州东\n55  D2923   红岛   丹阳\n56  D2923  青岛西  连云港\n57  D2923  青岛西   灌云\n58  D2923  青岛西   灌南\n59  D2923  青岛西   涟水\n60  D2923  青岛西  淮安东\n61  D2923  青岛西   宝应\n62  D2923  青岛西  扬州东\n63  D2923  青岛西   丹阳\n64  D2923  董家口  连云港\n65  D2923  董家口   灌云\n66  D2923  董家口   灌南\n67  D2923  董家口   涟水\n68  D2923  董家口  淮安东\n69  D2923  董家口   宝应\n70  D2923  董家口  扬州东\n71  D2923  董家口   丹阳\n72  D2923  日照西  连云港\n73  D2923  日照西   灌云\n74  D2923  日照西   灌南\n75  D2923  日照西   涟水\n76  D2923  日照西  淮安东\n77  D2923  日照西   宝应\n78  D2923  日照西  扬州东\n79  D2923  日照西   丹阳",
      "text/html": "<div>\n<style scoped>\n    .dataframe tbody tr th:only-of-type {\n        vertical-align: middle;\n    }\n\n    .dataframe tbody tr th {\n        vertical-align: top;\n    }\n\n    .dataframe thead th {\n        text-align: right;\n    }\n</style>\n<table border=\"1\" class=\"dataframe\">\n  <thead>\n    <tr style=\"text-align: right;\">\n      <th></th>\n      <th>原始车次</th>\n      <th>起点</th>\n      <th>终点</th>\n    </tr>\n  </thead>\n  <tbody>\n    <tr>\n      <th>0</th>\n      <td>D2923</td>\n      <td>荣成</td>\n      <td>连云港</td>\n    </tr>\n    <tr>\n      <th>1</th>\n      <td>D2923</td>\n      <td>荣成</td>\n      <td>灌云</td>\n    </tr>\n    <tr>\n      <th>2</th>\n      <td>D2923</td>\n      <td>荣成</td>\n      <td>灌南</td>\n    </tr>\n    <tr>\n      <th>3</th>\n      <td>D2923</td>\n      <td>荣成</td>\n      <td>涟水</td>\n    </tr>\n    <tr>\n      <th>4</th>\n      <td>D2923</td>\n      <td>荣成</td>\n      <td>淮安东</td>\n    </tr>\n    <tr>\n      <th>5</th>\n      <td>D2923</td>\n      <td>荣成</td>\n      <td>宝应</td>\n    </tr>\n    <tr>\n      <th>6</th>\n      <td>D2923</td>\n      <td>荣成</td>\n      <td>扬州东</td>\n    </tr>\n    <tr>\n      <th>7</th>\n      <td>D2923</td>\n      <td>荣成</td>\n      <td>丹阳</td>\n    </tr>\n    <tr>\n      <th>8</th>\n      <td>D2923</td>\n      <td>威海</td>\n      <td>连云港</td>\n    </tr>\n    <tr>\n      <th>9</th>\n      <td>D2923</td>\n      <td>威海</td>\n      <td>灌云</td>\n    </tr>\n    <tr>\n      <th>10</th>\n      <td>D2923</td>\n      <td>威海</td>\n      <td>灌南</td>\n    </tr>\n    <tr>\n      <th>11</th>\n      <td>D2923</td>\n      <td>威海</td>\n      <td>涟水</td>\n    </tr>\n    <tr>\n      <th>12</th>\n      <td>D2923</td>\n      <td>威海</td>\n      <td>淮安东</td>\n    </tr>\n    <tr>\n      <th>13</th>\n      <td>D2923</td>\n      <td>威海</td>\n      <td>宝应</td>\n    </tr>\n    <tr>\n      <th>14</th>\n      <td>D2923</td>\n      <td>威海</td>\n      <td>扬州东</td>\n    </tr>\n    <tr>\n      <th>15</th>\n      <td>D2923</td>\n      <td>威海</td>\n      <td>丹阳</td>\n    </tr>\n    <tr>\n      <th>16</th>\n      <td>D2923</td>\n      <td>威海北</td>\n      <td>连云港</td>\n    </tr>\n    <tr>\n      <th>17</th>\n      <td>D2923</td>\n      <td>威海北</td>\n      <td>灌云</td>\n    </tr>\n    <tr>\n      <th>18</th>\n      <td>D2923</td>\n      <td>威海北</td>\n      <td>灌南</td>\n    </tr>\n    <tr>\n      <th>19</th>\n      <td>D2923</td>\n      <td>威海北</td>\n      <td>涟水</td>\n    </tr>\n    <tr>\n      <th>20</th>\n      <td>D2923</td>\n      <td>威海北</td>\n      <td>淮安东</td>\n    </tr>\n    <tr>\n      <th>21</th>\n      <td>D2923</td>\n      <td>威海北</td>\n      <td>宝应</td>\n    </tr>\n    <tr>\n      <th>22</th>\n      <td>D2923</td>\n      <td>威海北</td>\n      <td>扬州东</td>\n    </tr>\n    <tr>\n      <th>23</th>\n      <td>D2923</td>\n      <td>威海北</td>\n      <td>丹阳</td>\n    </tr>\n    <tr>\n      <th>24</th>\n      <td>D2923</td>\n      <td>烟台南</td>\n      <td>连云港</td>\n    </tr>\n    <tr>\n      <th>25</th>\n      <td>D2923</td>\n      <td>烟台南</td>\n      <td>灌云</td>\n    </tr>\n    <tr>\n      <th>26</th>\n      <td>D2923</td>\n      <td>烟台南</td>\n      <td>灌南</td>\n    </tr>\n    <tr>\n      <th>27</th>\n      <td>D2923</td>\n      <td>烟台南</td>\n      <td>涟水</td>\n    </tr>\n    <tr>\n      <th>28</th>\n      <td>D2923</td>\n      <td>烟台南</td>\n      <td>淮安东</td>\n    </tr>\n    <tr>\n      <th>29</th>\n      <td>D2923</td>\n      <td>烟台南</td>\n      <td>宝应</td>\n    </tr>\n    <tr>\n      <th>30</th>\n      <td>D2923</td>\n      <td>烟台南</td>\n      <td>扬州东</td>\n    </tr>\n    <tr>\n      <th>31</th>\n      <td>D2923</td>\n      <td>烟台南</td>\n      <td>丹阳</td>\n    </tr>\n    <tr>\n      <th>32</th>\n      <td>D2923</td>\n      <td>莱阳</td>\n      <td>连云港</td>\n    </tr>\n    <tr>\n      <th>33</th>\n      <td>D2923</td>\n      <td>莱阳</td>\n      <td>灌云</td>\n    </tr>\n    <tr>\n      <th>34</th>\n      <td>D2923</td>\n      <td>莱阳</td>\n      <td>灌南</td>\n    </tr>\n    <tr>\n      <th>35</th>\n      <td>D2923</td>\n      <td>莱阳</td>\n      <td>涟水</td>\n    </tr>\n    <tr>\n      <th>36</th>\n      <td>D2923</td>\n      <td>莱阳</td>\n      <td>淮安东</td>\n    </tr>\n    <tr>\n      <th>37</th>\n      <td>D2923</td>\n      <td>莱阳</td>\n      <td>宝应</td>\n    </tr>\n    <tr>\n      <th>38</th>\n      <td>D2923</td>\n      <td>莱阳</td>\n      <td>扬州东</td>\n    </tr>\n    <tr>\n      <th>39</th>\n      <td>D2923</td>\n      <td>莱阳</td>\n      <td>丹阳</td>\n    </tr>\n    <tr>\n      <th>40</th>\n      <td>D2923</td>\n      <td>即墨北</td>\n      <td>连云港</td>\n    </tr>\n    <tr>\n      <th>41</th>\n      <td>D2923</td>\n      <td>即墨北</td>\n      <td>灌云</td>\n    </tr>\n    <tr>\n      <th>42</th>\n      <td>D2923</td>\n      <td>即墨北</td>\n      <td>灌南</td>\n    </tr>\n    <tr>\n      <th>43</th>\n      <td>D2923</td>\n      <td>即墨北</td>\n      <td>涟水</td>\n    </tr>\n    <tr>\n      <th>44</th>\n      <td>D2923</td>\n      <td>即墨北</td>\n      <td>淮安东</td>\n    </tr>\n    <tr>\n      <th>45</th>\n      <td>D2923</td>\n      <td>即墨北</td>\n      <td>宝应</td>\n    </tr>\n    <tr>\n      <th>46</th>\n      <td>D2923</td>\n      <td>即墨北</td>\n      <td>扬州东</td>\n    </tr>\n    <tr>\n      <th>47</th>\n      <td>D2923</td>\n      <td>即墨北</td>\n      <td>丹阳</td>\n    </tr>\n    <tr>\n      <th>48</th>\n      <td>D2923</td>\n      <td>红岛</td>\n      <td>连云港</td>\n    </tr>\n    <tr>\n      <th>49</th>\n      <td>D2923</td>\n      <td>红岛</td>\n      <td>灌云</td>\n    </tr>\n    <tr>\n      <th>50</th>\n      <td>D2923</td>\n      <td>红岛</td>\n      <td>灌南</td>\n    </tr>\n    <tr>\n      <th>51</th>\n      <td>D2923</td>\n      <td>红岛</td>\n      <td>涟水</td>\n    </tr>\n    <tr>\n      <th>52</th>\n      <td>D2923</td>\n      <td>红岛</td>\n      <td>淮安东</td>\n    </tr>\n    <tr>\n      <th>53</th>\n      <td>D2923</td>\n      <td>红岛</td>\n      <td>宝应</td>\n    </tr>\n    <tr>\n      <th>54</th>\n      <td>D2923</td>\n      <td>红岛</td>\n      <td>扬州东</td>\n    </tr>\n    <tr>\n      <th>55</th>\n      <td>D2923</td>\n      <td>红岛</td>\n      <td>丹阳</td>\n    </tr>\n    <tr>\n      <th>56</th>\n      <td>D2923</td>\n      <td>青岛西</td>\n      <td>连云港</td>\n    </tr>\n    <tr>\n      <th>57</th>\n      <td>D2923</td>\n      <td>青岛西</td>\n      <td>灌云</td>\n    </tr>\n    <tr>\n      <th>58</th>\n      <td>D2923</td>\n      <td>青岛西</td>\n      <td>灌南</td>\n    </tr>\n    <tr>\n      <th>59</th>\n      <td>D2923</td>\n      <td>青岛西</td>\n      <td>涟水</td>\n    </tr>\n    <tr>\n      <th>60</th>\n      <td>D2923</td>\n      <td>青岛西</td>\n      <td>淮安东</td>\n    </tr>\n    <tr>\n      <th>61</th>\n      <td>D2923</td>\n      <td>青岛西</td>\n      <td>宝应</td>\n    </tr>\n    <tr>\n      <th>62</th>\n      <td>D2923</td>\n      <td>青岛西</td>\n      <td>扬州东</td>\n    </tr>\n    <tr>\n      <th>63</th>\n      <td>D2923</td>\n      <td>青岛西</td>\n      <td>丹阳</td>\n    </tr>\n    <tr>\n      <th>64</th>\n      <td>D2923</td>\n      <td>董家口</td>\n      <td>连云港</td>\n    </tr>\n    <tr>\n      <th>65</th>\n      <td>D2923</td>\n      <td>董家口</td>\n      <td>灌云</td>\n    </tr>\n    <tr>\n      <th>66</th>\n      <td>D2923</td>\n      <td>董家口</td>\n      <td>灌南</td>\n    </tr>\n    <tr>\n      <th>67</th>\n      <td>D2923</td>\n      <td>董家口</td>\n      <td>涟水</td>\n    </tr>\n    <tr>\n      <th>68</th>\n      <td>D2923</td>\n      <td>董家口</td>\n      <td>淮安东</td>\n    </tr>\n    <tr>\n      <th>69</th>\n      <td>D2923</td>\n      <td>董家口</td>\n      <td>宝应</td>\n    </tr>\n    <tr>\n      <th>70</th>\n      <td>D2923</td>\n      <td>董家口</td>\n      <td>扬州东</td>\n    </tr>\n    <tr>\n      <th>71</th>\n      <td>D2923</td>\n      <td>董家口</td>\n      <td>丹阳</td>\n    </tr>\n    <tr>\n      <th>72</th>\n      <td>D2923</td>\n      <td>日照西</td>\n      <td>连云港</td>\n    </tr>\n    <tr>\n      <th>73</th>\n      <td>D2923</td>\n      <td>日照西</td>\n      <td>灌云</td>\n    </tr>\n    <tr>\n      <th>74</th>\n      <td>D2923</td>\n      <td>日照西</td>\n      <td>灌南</td>\n    </tr>\n    <tr>\n      <th>75</th>\n      <td>D2923</td>\n      <td>日照西</td>\n      <td>涟水</td>\n    </tr>\n    <tr>\n      <th>76</th>\n      <td>D2923</td>\n      <td>日照西</td>\n      <td>淮安东</td>\n    </tr>\n    <tr>\n      <th>77</th>\n      <td>D2923</td>\n      <td>日照西</td>\n      <td>宝应</td>\n    </tr>\n    <tr>\n      <th>78</th>\n      <td>D2923</td>\n      <td>日照西</td>\n      <td>扬州东</td>\n    </tr>\n    <tr>\n      <th>79</th>\n      <td>D2923</td>\n      <td>日照西</td>\n      <td>丹阳</td>\n    </tr>\n  </tbody>\n</table>\n</div>"
     },
     "execution_count": 8,
     "metadata": {},
     "output_type": "execute_result"
    }
   ],
   "source": [
    "# 按照起点名和终点名分成两个列表, 进行叉乘, 使用包含, 而不是index, 因为名字可能不一样,但是一定包含\n",
    "start_station_index = 0  # 和middle_station_index可能相同\n",
    "middle_station_index = 0  # 和end_station_index一定不同\n",
    "end_station_index = 0\n",
    "for (index, station_name) in enumerate(item_stop_station_names):\n",
    "    if station_start in station_name:\n",
    "        middle_station_index = index\n",
    "    if station_end in station_name:\n",
    "        end_station_index = index\n",
    "# 两个队列的叉乘\n",
    "print(start_station_index, middle_station_index, end_station_index)\n",
    "xlist = []\n",
    "# index生成器\n",
    "index_generator = (i for i in range(0, 10000000))\n",
    "for i in range(start_station_index, middle_station_index):\n",
    "    for j in range(middle_station_index + 1, end_station_index):\n",
    "        xlist.append([item_stop_station_names[i], item_stop_station_names[j]])\n",
    "\n",
    "xlist_df = pd.DataFrame(xlist, columns=[\"起点\", \"终点\"])\n",
    "xlist_df.insert(0, \"原始车次\", train_item[\"TrainName\"])\n",
    "xlist_df"
   ]
  },
  {
   "cell_type": "markdown",
   "id": "e1572fa4ef08b71",
   "metadata": {
    "collapsed": false
   },
   "source": [
    "> xlist 中的站点的车次关系,查询余票信息. 由于是按照车站名称查询, 两个车站之间有很多车次, 使用发车时间进行过滤,找到原始的车次\n"
   ]
  },
  {
   "cell_type": "code",
   "execution_count": 12,
   "id": "c4d55291b900f9b1",
   "metadata": {
    "collapsed": false,
    "ExecuteTime": {
     "end_time": "2024-02-08T03:19:52.040840Z",
     "start_time": "2024-02-08T03:19:44.383359Z"
    }
   },
   "outputs": [
    {
     "name": "stdout",
     "output_type": "stream",
     "text": [
      "[  MainThread ] 开始查询车次信息, 总查询次数: 80\n",
      "[  MainThread ] 开始查询 0\n",
      "[  MainThread ] 查询结束,cost= 7655 ms,  查询数量80,\n",
      " [3, 5, 0, 7, 8, 6, 4, 2, 9, 1, 10, 13, 15, 12, 18, 17, 11, 19, 20, 16, 14, 21, 22, 23, 24, 27, 30, 25, 29, 28, 31, 32, 26, 33, 35, 34, 36, 37, 38, 40, 39, 41, 42, 46, 44, 45, 43, 47, 48, 49, 50, 51, 52, 53, 55, 54, 56, 57, 59, 60, 58, 62, 61, 63, 64, 65, 67, 66, 69, 71, 68, 70, 72, 73, 74, 77, 76, 79, 75, 78]\n"
     ]
    }
   ],
   "source": [
    "#\n",
    "import time\n",
    "import vthread\n",
    "\n",
    "xlist_item_results = []\n",
    "finished_index = []\n",
    "# 打印一下进度条\n",
    "print(\"开始查询车次信息, 总查询次数:\", len(xlist))\n",
    "print(\"开始查询\", len(xlist_item_results))\n",
    "\n",
    "# 多线程查询\n",
    "T1 = time.time()\n",
    "@vthread.pool(10)\n",
    "def xlist_item_job(index, xlist_item_start_station, xlist_item_end_station):\n",
    "    xlist_item_train_items = query_booking_by_station_v3_for_pc(xlist_item_start_station, xlist_item_end_station,\n",
    "                                                                date)\n",
    "    # 过滤出发车时间是之前dict中的时间的车次\n",
    "    xlist_item_start_station_departure_time = item_stop_list_station_name_departure_dict[xlist_item_start_station]\n",
    "    xlist_item_train_items = [item for item in xlist_item_train_items if str(item[\"StartTime\"]) == str(xlist_item_start_station_departure_time)]\n",
    "\n",
    "    xlist_item_train_items_df = transform_booking_train_items_info_to_dataframe(xlist_item_train_items)\n",
    "    # 给df增加一列, 起点站和终点站,放到开头\n",
    "    xlist_item_train_items_df.insert(0, \"起点站\", xlist_item_start_station)\n",
    "    xlist_item_train_items_df.insert(1, \"终点站\", xlist_item_end_station)\n",
    "    xlist_item_results.append(xlist_item_train_items_df)\n",
    "    finished_index.append(index)\n",
    "    \n",
    "for (index, xlist_item) in enumerate(xlist):\n",
    "    xlist_item_start_station = xlist_item[0]\n",
    "    xlist_item_end_station = xlist_item[1]\n",
    "    xlist_item_job(index, xlist_item_start_station, xlist_item_end_station)\n",
    "vthread.pool.wait()\n",
    "T2 = time.time()\n",
    "\n",
    "print(f\"查询结束,cost= {int((T2 - T1)*1000)} ms,  查询数量{len(xlist_item_results)},\\n {finished_index}\")"
   ]
  },
  {
   "cell_type": "code",
   "execution_count": 9,
   "id": "63c5fefab54eb56a",
   "metadata": {
    "collapsed": false,
    "ExecuteTime": {
     "end_time": "2024-02-08T03:19:26.929869Z",
     "start_time": "2024-02-08T03:19:26.925286Z"
    }
   },
   "outputs": [],
   "source": []
  },
  {
   "cell_type": "code",
   "execution_count": 10,
   "id": "95daa1539eb706fb",
   "metadata": {
    "collapsed": false,
    "ExecuteTime": {
     "end_time": "2024-02-08T03:19:26.957921Z",
     "start_time": "2024-02-08T03:19:26.936107Z"
    }
   },
   "outputs": [
    {
     "data": {
      "text/plain": "     原始车次  起点站  终点站     车次   开始时间   结束时间       耗时  一等座价格  一等座余票量  二等座价格  \\\n0   D2923  日照西   丹阳  D2923  09:40  13:11  3小时31分钟    289       0    180   \n1   D2923  董家口   丹阳  D2923  09:12  13:11  3小时59分钟    315       0    196   \n2   D2923  青岛西   丹阳  D2923  08:55  13:11  4小时16分钟    336       0    209   \n3   D2923   红岛   丹阳  D2923  08:29  13:11  4小时42分钟    366       0    228   \n4   D2923  即墨北   丹阳  D2926  08:05  13:11   5小时6分钟    388       0    242   \n5   D2923   莱阳   丹阳  D2926  07:42  13:11  5小时29分钟    419       0    261   \n6   D2923  烟台南   丹阳  D2926  07:13  13:11  5小时58分钟    457       0    285   \n7   D2923  威海北   丹阳  D2926  06:51  13:11  6小时20分钟    484       0    302   \n8   D2923   威海   丹阳  D2926  06:42  13:11  6小时29分钟    490       0    306   \n9   D2923   荣成   丹阳  D2926  06:23  13:11  6小时48分钟    508       0    317   \n10  D2923  日照西  扬州东  D2923  09:40  12:39  2小时59分钟    230       0    144   \n11  D2923  董家口  扬州东  D2923  09:12  12:39  3小时27分钟    256       0    160   \n12  D2923  青岛西  扬州东  D2923  08:55  12:39  3小时44分钟    277       0    173   \n13  D2923   红岛  扬州东  D2923  08:29  12:39  4小时10分钟    307       0    192   \n14  D2923  即墨北  扬州东  D2926  08:05  12:39  4小时34分钟    329       0    206   \n15  D2923   莱阳  扬州东  D2926  07:42  12:39  4小时57分钟    360       0    225   \n16  D2923  烟台南  扬州东  D2926  07:13  12:39  5小时26分钟    398       0    249   \n17  D2923  威海北  扬州东  D2926  06:51  12:39  5小时48分钟    425       0    266   \n18  D2923   威海  扬州东  D2926  06:42  12:39  5小时57分钟    431       0    270   \n19  D2923   荣成  扬州东  D2926  06:23  12:39  6小时16分钟    449       0    281   \n20  D2923  日照西   宝应  D2923  09:40  12:09  2小时29分钟    171       0    107   \n21  D2923  董家口   宝应  D2923  09:12  12:09  2小时57分钟    197       0    123   \n22  D2923  青岛西   宝应  D2923  08:55  12:09  3小时14分钟    218       0    136   \n23  D2923   红岛   宝应  D2923  08:29  12:09  3小时40分钟    248       0    155   \n24  D2923  即墨北   宝应  D2926  08:05  12:09   4小时4分钟    270       0    169   \n25  D2923   莱阳   宝应  D2926  07:42  12:09  4小时27分钟    301       0    188   \n26  D2923  烟台南   宝应  D2926  07:13  12:09  4小时56分钟    339       0    212   \n27  D2923  威海北   宝应  D2926  06:51  12:09  5小时18分钟    366       0    229   \n28  D2923   威海   宝应  D2926  06:42  12:09  5小时27分钟    372       0    233   \n29  D2923   荣成   宝应  D2926  06:23  12:09  5小时46分钟    390       0    244   \n30  D2923  日照西  淮安东  D2923  09:40  11:50  2小时10分钟    143       0     89   \n31  D2923  董家口  淮安东  D2923  09:12  11:50  2小时38分钟    169       0    105   \n32  D2923  青岛西  淮安东  D2923  08:55  11:50  2小时55分钟    190       0    118   \n33  D2923   红岛  淮安东  D2923  08:29  11:50  3小时21分钟    220       0    137   \n34  D2923  即墨北  淮安东  D2926  08:05  11:50  3小时45分钟    242       0    151   \n35  D2923   莱阳  淮安东  D2926  07:42  11:50   4小时8分钟    273       0    170   \n36  D2923  烟台南  淮安东  D2926  07:13  11:50  4小时37分钟    311       0    194   \n37  D2923  威海北  淮安东  D2926  06:51  11:50  4小时59分钟    338       0    211   \n38  D2923   威海  淮安东  D2926  06:42  11:50   5小时8分钟    344       0    215   \n39  D2923   荣成  淮安东  D2926  06:23  11:50  5小时27分钟    362       0    226   \n40  D2923  日照西   涟水  D2923  09:40  11:30  1小时50分钟    126       0     80   \n41  D2923  董家口   涟水  D2923  09:12  11:30  2小时18分钟    152       0     96   \n42  D2923  青岛西   涟水  D2923  08:55  11:30  2小时35分钟    173       0    109   \n43  D2923   红岛   涟水  D2923  08:29  11:30   3小时1分钟    203       0    128   \n44  D2923  即墨北   涟水  D2926  08:05  11:30  3小时25分钟    225       0    142   \n45  D2923   莱阳   涟水  D2926  07:42  11:30  3小时48分钟    256       0    161   \n46  D2923  烟台南   涟水  D2926  07:13  11:30  4小时17分钟    294       0    185   \n47  D2923  威海北   涟水  D2926  06:51  11:30  4小时39分钟    321       0    202   \n48  D2923   威海   涟水  D2926  06:42  11:30  4小时48分钟    327       0    206   \n49  D2923   荣成   涟水  D2926  06:23  11:30   5小时7分钟    345       0    217   \n50  D2923  日照西   灌南  D2923  09:40  11:07  1小时27分钟    102       0     65   \n51  D2923  董家口   灌南  D2923  09:12  11:07  1小时55分钟    128       0     81   \n52  D2923  青岛西   灌南  D2923  08:55  11:07  2小时12分钟    149       0     94   \n53  D2923   红岛   灌南  D2923  08:29  11:07  2小时38分钟    179       0    113   \n54  D2923  即墨北   灌南  D2926  08:05  11:07   3小时2分钟    201       0    127   \n55  D2923   莱阳   灌南  D2926  07:42  11:07  3小时25分钟    232       0    146   \n56  D2923  烟台南   灌南  D2926  07:13  11:07  3小时54分钟    270       0    170   \n57  D2923  威海北   灌南  D2926  06:51  11:07  4小时16分钟    297       0    187   \n58  D2923   威海   灌南  D2926  06:42  11:07  4小时25分钟    303       0    191   \n59  D2923   荣成   灌南  D2926  06:23  11:07  4小时44分钟    321       0    202   \n60  D2923  日照西   灌云  D2923  09:40  10:55  1小时15分钟     88       0     56   \n61  D2923  董家口   灌云  D2923  09:12  10:55  1小时43分钟    114       0     72   \n62  D2923  青岛西   灌云  D2923  08:55  10:55   2小时0分钟    135       0     85   \n63  D2923   红岛   灌云  D2923  08:29  10:55  2小时26分钟    165       0    104   \n64  D2923  即墨北   灌云  D2926  08:05  10:55  2小时50分钟    187       0    118   \n65  D2923   莱阳   灌云  D2926  07:42  10:55  3小时13分钟    218       0    137   \n66  D2923  烟台南   灌云  D2926  07:13  10:55  3小时42分钟    256       0    161   \n67  D2923  威海北   灌云  D2926  06:51  10:55   4小时4分钟    283       0    178   \n68  D2923   威海   灌云  D2926  06:42  10:55  4小时13分钟    289       0    182   \n69  D2923   荣成   灌云  D2926  06:23  10:55  4小时32分钟    307       0    193   \n70  D2923  日照西  连云港  D2923  09:40  10:27  0小时47分钟     59       0     37   \n71  D2923  董家口  连云港  D2923  09:12  10:27  1小时15分钟     85       0     53   \n72  D2923  青岛西  连云港  D2923  08:55  10:27  1小时32分钟    106       0     66   \n73  D2923   红岛  连云港  D2923  08:29  10:27  1小时58分钟    136       0     85   \n74  D2923  即墨北  连云港  D2926  08:05  10:27  2小时22分钟    158       0     99   \n75  D2923   莱阳  连云港  D2926  07:42  10:27  2小时45分钟    189       0    118   \n76  D2923  烟台南  连云港  D2926  07:13  10:27  3小时14分钟    227       0    142   \n77  D2923  威海北  连云港  D2926  06:51  10:27  3小时36分钟    254       0    159   \n78  D2923   威海  连云港  D2926  06:42  10:27  3小时45分钟    260       0    163   \n79  D2923   荣成  连云港  D2926  06:23  10:27   4小时4分钟    278       0    174   \n\n    二等座余票量  \\\n0        0   \n1        0   \n2        0   \n3        0   \n4        0   \n5        0   \n6        0   \n7        0   \n8        0   \n9        0   \n10       0   \n11       0   \n12       0   \n13       0   \n14       0   \n15       0   \n16       0   \n17       0   \n18       0   \n19       0   \n20       0   \n21       0   \n22       0   \n23       0   \n24       0   \n25       0   \n26       0   \n27       0   \n28       0   \n29       0   \n30       0   \n31       0   \n32       0   \n33       0   \n34       0   \n35       0   \n36       2   \n37       2   \n38       2   \n39       2   \n40       0   \n41       0   \n42       0   \n43       0   \n44       0   \n45       0   \n46       5   \n47       5   \n48       5   \n49       5   \n50       0   \n51       0   \n52       0   \n53       0   \n54       0   \n55       0   \n56       6   \n57       6   \n58       6   \n59       6   \n60       0   \n61       0   \n62       0   \n63       0   \n64       0   \n65       0   \n66       2   \n67       2   \n68       2   \n69       2   \n70       0   \n71       0   \n72       0   \n73       0   \n74       0   \n75       0   \n76       5   \n77       5   \n78       5   \n79       5   \n\n                                                                                            车次链接  \n0    https://www.suanya.com/pages/trainList?fromCn=日照西&toCn=丹阳&fromDate=2024-02-19#:~:text=D2923  \n1    https://www.suanya.com/pages/trainList?fromCn=董家口&toCn=丹阳&fromDate=2024-02-19#:~:text=D2923  \n2    https://www.suanya.com/pages/trainList?fromCn=青岛西&toCn=丹阳&fromDate=2024-02-19#:~:text=D2923  \n3     https://www.suanya.com/pages/trainList?fromCn=红岛&toCn=丹阳&fromDate=2024-02-19#:~:text=D2923  \n4    https://www.suanya.com/pages/trainList?fromCn=即墨北&toCn=丹阳&fromDate=2024-02-19#:~:text=D2926  \n5     https://www.suanya.com/pages/trainList?fromCn=莱阳&toCn=丹阳&fromDate=2024-02-19#:~:text=D2926  \n6    https://www.suanya.com/pages/trainList?fromCn=烟台南&toCn=丹阳&fromDate=2024-02-19#:~:text=D2926  \n7    https://www.suanya.com/pages/trainList?fromCn=威海北&toCn=丹阳&fromDate=2024-02-19#:~:text=D2926  \n8     https://www.suanya.com/pages/trainList?fromCn=威海&toCn=丹阳&fromDate=2024-02-19#:~:text=D2926  \n9     https://www.suanya.com/pages/trainList?fromCn=荣成&toCn=丹阳&fromDate=2024-02-19#:~:text=D2926  \n10  https://www.suanya.com/pages/trainList?fromCn=日照西&toCn=扬州东&fromDate=2024-02-19#:~:text=D2923  \n11  https://www.suanya.com/pages/trainList?fromCn=董家口&toCn=扬州东&fromDate=2024-02-19#:~:text=D2923  \n12  https://www.suanya.com/pages/trainList?fromCn=青岛西&toCn=扬州东&fromDate=2024-02-19#:~:text=D2923  \n13   https://www.suanya.com/pages/trainList?fromCn=红岛&toCn=扬州东&fromDate=2024-02-19#:~:text=D2923  \n14  https://www.suanya.com/pages/trainList?fromCn=即墨北&toCn=扬州东&fromDate=2024-02-19#:~:text=D2926  \n15   https://www.suanya.com/pages/trainList?fromCn=莱阳&toCn=扬州东&fromDate=2024-02-19#:~:text=D2926  \n16  https://www.suanya.com/pages/trainList?fromCn=烟台南&toCn=扬州东&fromDate=2024-02-19#:~:text=D2926  \n17  https://www.suanya.com/pages/trainList?fromCn=威海北&toCn=扬州东&fromDate=2024-02-19#:~:text=D2926  \n18   https://www.suanya.com/pages/trainList?fromCn=威海&toCn=扬州东&fromDate=2024-02-19#:~:text=D2926  \n19   https://www.suanya.com/pages/trainList?fromCn=荣成&toCn=扬州东&fromDate=2024-02-19#:~:text=D2926  \n20   https://www.suanya.com/pages/trainList?fromCn=日照西&toCn=宝应&fromDate=2024-02-19#:~:text=D2923  \n21   https://www.suanya.com/pages/trainList?fromCn=董家口&toCn=宝应&fromDate=2024-02-19#:~:text=D2923  \n22   https://www.suanya.com/pages/trainList?fromCn=青岛西&toCn=宝应&fromDate=2024-02-19#:~:text=D2923  \n23    https://www.suanya.com/pages/trainList?fromCn=红岛&toCn=宝应&fromDate=2024-02-19#:~:text=D2923  \n24   https://www.suanya.com/pages/trainList?fromCn=即墨北&toCn=宝应&fromDate=2024-02-19#:~:text=D2926  \n25    https://www.suanya.com/pages/trainList?fromCn=莱阳&toCn=宝应&fromDate=2024-02-19#:~:text=D2926  \n26   https://www.suanya.com/pages/trainList?fromCn=烟台南&toCn=宝应&fromDate=2024-02-19#:~:text=D2926  \n27   https://www.suanya.com/pages/trainList?fromCn=威海北&toCn=宝应&fromDate=2024-02-19#:~:text=D2926  \n28    https://www.suanya.com/pages/trainList?fromCn=威海&toCn=宝应&fromDate=2024-02-19#:~:text=D2926  \n29    https://www.suanya.com/pages/trainList?fromCn=荣成&toCn=宝应&fromDate=2024-02-19#:~:text=D2926  \n30  https://www.suanya.com/pages/trainList?fromCn=日照西&toCn=淮安东&fromDate=2024-02-19#:~:text=D2923  \n31  https://www.suanya.com/pages/trainList?fromCn=董家口&toCn=淮安东&fromDate=2024-02-19#:~:text=D2923  \n32  https://www.suanya.com/pages/trainList?fromCn=青岛西&toCn=淮安东&fromDate=2024-02-19#:~:text=D2923  \n33   https://www.suanya.com/pages/trainList?fromCn=红岛&toCn=淮安东&fromDate=2024-02-19#:~:text=D2923  \n34  https://www.suanya.com/pages/trainList?fromCn=即墨北&toCn=淮安东&fromDate=2024-02-19#:~:text=D2926  \n35   https://www.suanya.com/pages/trainList?fromCn=莱阳&toCn=淮安东&fromDate=2024-02-19#:~:text=D2926  \n36  https://www.suanya.com/pages/trainList?fromCn=烟台南&toCn=淮安东&fromDate=2024-02-19#:~:text=D2926  \n37  https://www.suanya.com/pages/trainList?fromCn=威海北&toCn=淮安东&fromDate=2024-02-19#:~:text=D2926  \n38   https://www.suanya.com/pages/trainList?fromCn=威海&toCn=淮安东&fromDate=2024-02-19#:~:text=D2926  \n39   https://www.suanya.com/pages/trainList?fromCn=荣成&toCn=淮安东&fromDate=2024-02-19#:~:text=D2926  \n40   https://www.suanya.com/pages/trainList?fromCn=日照西&toCn=涟水&fromDate=2024-02-19#:~:text=D2923  \n41   https://www.suanya.com/pages/trainList?fromCn=董家口&toCn=涟水&fromDate=2024-02-19#:~:text=D2923  \n42   https://www.suanya.com/pages/trainList?fromCn=青岛西&toCn=涟水&fromDate=2024-02-19#:~:text=D2923  \n43    https://www.suanya.com/pages/trainList?fromCn=红岛&toCn=涟水&fromDate=2024-02-19#:~:text=D2923  \n44   https://www.suanya.com/pages/trainList?fromCn=即墨北&toCn=涟水&fromDate=2024-02-19#:~:text=D2926  \n45    https://www.suanya.com/pages/trainList?fromCn=莱阳&toCn=涟水&fromDate=2024-02-19#:~:text=D2926  \n46   https://www.suanya.com/pages/trainList?fromCn=烟台南&toCn=涟水&fromDate=2024-02-19#:~:text=D2926  \n47   https://www.suanya.com/pages/trainList?fromCn=威海北&toCn=涟水&fromDate=2024-02-19#:~:text=D2926  \n48    https://www.suanya.com/pages/trainList?fromCn=威海&toCn=涟水&fromDate=2024-02-19#:~:text=D2926  \n49    https://www.suanya.com/pages/trainList?fromCn=荣成&toCn=涟水&fromDate=2024-02-19#:~:text=D2926  \n50   https://www.suanya.com/pages/trainList?fromCn=日照西&toCn=灌南&fromDate=2024-02-19#:~:text=D2923  \n51   https://www.suanya.com/pages/trainList?fromCn=董家口&toCn=灌南&fromDate=2024-02-19#:~:text=D2923  \n52   https://www.suanya.com/pages/trainList?fromCn=青岛西&toCn=灌南&fromDate=2024-02-19#:~:text=D2923  \n53    https://www.suanya.com/pages/trainList?fromCn=红岛&toCn=灌南&fromDate=2024-02-19#:~:text=D2923  \n54   https://www.suanya.com/pages/trainList?fromCn=即墨北&toCn=灌南&fromDate=2024-02-19#:~:text=D2926  \n55    https://www.suanya.com/pages/trainList?fromCn=莱阳&toCn=灌南&fromDate=2024-02-19#:~:text=D2926  \n56   https://www.suanya.com/pages/trainList?fromCn=烟台南&toCn=灌南&fromDate=2024-02-19#:~:text=D2926  \n57   https://www.suanya.com/pages/trainList?fromCn=威海北&toCn=灌南&fromDate=2024-02-19#:~:text=D2926  \n58    https://www.suanya.com/pages/trainList?fromCn=威海&toCn=灌南&fromDate=2024-02-19#:~:text=D2926  \n59    https://www.suanya.com/pages/trainList?fromCn=荣成&toCn=灌南&fromDate=2024-02-19#:~:text=D2926  \n60   https://www.suanya.com/pages/trainList?fromCn=日照西&toCn=灌云&fromDate=2024-02-19#:~:text=D2923  \n61   https://www.suanya.com/pages/trainList?fromCn=董家口&toCn=灌云&fromDate=2024-02-19#:~:text=D2923  \n62   https://www.suanya.com/pages/trainList?fromCn=青岛西&toCn=灌云&fromDate=2024-02-19#:~:text=D2923  \n63    https://www.suanya.com/pages/trainList?fromCn=红岛&toCn=灌云&fromDate=2024-02-19#:~:text=D2923  \n64   https://www.suanya.com/pages/trainList?fromCn=即墨北&toCn=灌云&fromDate=2024-02-19#:~:text=D2926  \n65    https://www.suanya.com/pages/trainList?fromCn=莱阳&toCn=灌云&fromDate=2024-02-19#:~:text=D2926  \n66   https://www.suanya.com/pages/trainList?fromCn=烟台南&toCn=灌云&fromDate=2024-02-19#:~:text=D2926  \n67   https://www.suanya.com/pages/trainList?fromCn=威海北&toCn=灌云&fromDate=2024-02-19#:~:text=D2926  \n68    https://www.suanya.com/pages/trainList?fromCn=威海&toCn=灌云&fromDate=2024-02-19#:~:text=D2926  \n69    https://www.suanya.com/pages/trainList?fromCn=荣成&toCn=灌云&fromDate=2024-02-19#:~:text=D2926  \n70  https://www.suanya.com/pages/trainList?fromCn=日照西&toCn=连云港&fromDate=2024-02-19#:~:text=D2923  \n71  https://www.suanya.com/pages/trainList?fromCn=董家口&toCn=连云港&fromDate=2024-02-19#:~:text=D2923  \n72  https://www.suanya.com/pages/trainList?fromCn=青岛西&toCn=连云港&fromDate=2024-02-19#:~:text=D2923  \n73   https://www.suanya.com/pages/trainList?fromCn=红岛&toCn=连云港&fromDate=2024-02-19#:~:text=D2923  \n74  https://www.suanya.com/pages/trainList?fromCn=即墨北&toCn=连云港&fromDate=2024-02-19#:~:text=D2926  \n75   https://www.suanya.com/pages/trainList?fromCn=莱阳&toCn=连云港&fromDate=2024-02-19#:~:text=D2926  \n76  https://www.suanya.com/pages/trainList?fromCn=烟台南&toCn=连云港&fromDate=2024-02-19#:~:text=D2926  \n77  https://www.suanya.com/pages/trainList?fromCn=威海北&toCn=连云港&fromDate=2024-02-19#:~:text=D2926  \n78   https://www.suanya.com/pages/trainList?fromCn=威海&toCn=连云港&fromDate=2024-02-19#:~:text=D2926  \n79   https://www.suanya.com/pages/trainList?fromCn=荣成&toCn=连云港&fromDate=2024-02-19#:~:text=D2926  ",
      "text/html": "<div>\n<style scoped>\n    .dataframe tbody tr th:only-of-type {\n        vertical-align: middle;\n    }\n\n    .dataframe tbody tr th {\n        vertical-align: top;\n    }\n\n    .dataframe thead th {\n        text-align: right;\n    }\n</style>\n<table border=\"1\" class=\"dataframe\">\n  <thead>\n    <tr style=\"text-align: right;\">\n      <th></th>\n      <th>原始车次</th>\n      <th>起点站</th>\n      <th>终点站</th>\n      <th>车次</th>\n      <th>开始时间</th>\n      <th>结束时间</th>\n      <th>耗时</th>\n      <th>一等座价格</th>\n      <th>一等座余票量</th>\n      <th>二等座价格</th>\n      <th>二等座余票量</th>\n      <th>车次链接</th>\n    </tr>\n  </thead>\n  <tbody>\n    <tr>\n      <th>0</th>\n      <td>D2923</td>\n      <td>日照西</td>\n      <td>丹阳</td>\n      <td>D2923</td>\n      <td>09:40</td>\n      <td>13:11</td>\n      <td>3小时31分钟</td>\n      <td>289</td>\n      <td>0</td>\n      <td>180</td>\n      <td>0</td>\n      <td>https://www.suanya.com/pages/trainList?fromCn=日照西&amp;toCn=丹阳&amp;fromDate=2024-02-19#:~:text=D2923</td>\n    </tr>\n    <tr>\n      <th>1</th>\n      <td>D2923</td>\n      <td>董家口</td>\n      <td>丹阳</td>\n      <td>D2923</td>\n      <td>09:12</td>\n      <td>13:11</td>\n      <td>3小时59分钟</td>\n      <td>315</td>\n      <td>0</td>\n      <td>196</td>\n      <td>0</td>\n      <td>https://www.suanya.com/pages/trainList?fromCn=董家口&amp;toCn=丹阳&amp;fromDate=2024-02-19#:~:text=D2923</td>\n    </tr>\n    <tr>\n      <th>2</th>\n      <td>D2923</td>\n      <td>青岛西</td>\n      <td>丹阳</td>\n      <td>D2923</td>\n      <td>08:55</td>\n      <td>13:11</td>\n      <td>4小时16分钟</td>\n      <td>336</td>\n      <td>0</td>\n      <td>209</td>\n      <td>0</td>\n      <td>https://www.suanya.com/pages/trainList?fromCn=青岛西&amp;toCn=丹阳&amp;fromDate=2024-02-19#:~:text=D2923</td>\n    </tr>\n    <tr>\n      <th>3</th>\n      <td>D2923</td>\n      <td>红岛</td>\n      <td>丹阳</td>\n      <td>D2923</td>\n      <td>08:29</td>\n      <td>13:11</td>\n      <td>4小时42分钟</td>\n      <td>366</td>\n      <td>0</td>\n      <td>228</td>\n      <td>0</td>\n      <td>https://www.suanya.com/pages/trainList?fromCn=红岛&amp;toCn=丹阳&amp;fromDate=2024-02-19#:~:text=D2923</td>\n    </tr>\n    <tr>\n      <th>4</th>\n      <td>D2923</td>\n      <td>即墨北</td>\n      <td>丹阳</td>\n      <td>D2926</td>\n      <td>08:05</td>\n      <td>13:11</td>\n      <td>5小时6分钟</td>\n      <td>388</td>\n      <td>0</td>\n      <td>242</td>\n      <td>0</td>\n      <td>https://www.suanya.com/pages/trainList?fromCn=即墨北&amp;toCn=丹阳&amp;fromDate=2024-02-19#:~:text=D2926</td>\n    </tr>\n    <tr>\n      <th>5</th>\n      <td>D2923</td>\n      <td>莱阳</td>\n      <td>丹阳</td>\n      <td>D2926</td>\n      <td>07:42</td>\n      <td>13:11</td>\n      <td>5小时29分钟</td>\n      <td>419</td>\n      <td>0</td>\n      <td>261</td>\n      <td>0</td>\n      <td>https://www.suanya.com/pages/trainList?fromCn=莱阳&amp;toCn=丹阳&amp;fromDate=2024-02-19#:~:text=D2926</td>\n    </tr>\n    <tr>\n      <th>6</th>\n      <td>D2923</td>\n      <td>烟台南</td>\n      <td>丹阳</td>\n      <td>D2926</td>\n      <td>07:13</td>\n      <td>13:11</td>\n      <td>5小时58分钟</td>\n      <td>457</td>\n      <td>0</td>\n      <td>285</td>\n      <td>0</td>\n      <td>https://www.suanya.com/pages/trainList?fromCn=烟台南&amp;toCn=丹阳&amp;fromDate=2024-02-19#:~:text=D2926</td>\n    </tr>\n    <tr>\n      <th>7</th>\n      <td>D2923</td>\n      <td>威海北</td>\n      <td>丹阳</td>\n      <td>D2926</td>\n      <td>06:51</td>\n      <td>13:11</td>\n      <td>6小时20分钟</td>\n      <td>484</td>\n      <td>0</td>\n      <td>302</td>\n      <td>0</td>\n      <td>https://www.suanya.com/pages/trainList?fromCn=威海北&amp;toCn=丹阳&amp;fromDate=2024-02-19#:~:text=D2926</td>\n    </tr>\n    <tr>\n      <th>8</th>\n      <td>D2923</td>\n      <td>威海</td>\n      <td>丹阳</td>\n      <td>D2926</td>\n      <td>06:42</td>\n      <td>13:11</td>\n      <td>6小时29分钟</td>\n      <td>490</td>\n      <td>0</td>\n      <td>306</td>\n      <td>0</td>\n      <td>https://www.suanya.com/pages/trainList?fromCn=威海&amp;toCn=丹阳&amp;fromDate=2024-02-19#:~:text=D2926</td>\n    </tr>\n    <tr>\n      <th>9</th>\n      <td>D2923</td>\n      <td>荣成</td>\n      <td>丹阳</td>\n      <td>D2926</td>\n      <td>06:23</td>\n      <td>13:11</td>\n      <td>6小时48分钟</td>\n      <td>508</td>\n      <td>0</td>\n      <td>317</td>\n      <td>0</td>\n      <td>https://www.suanya.com/pages/trainList?fromCn=荣成&amp;toCn=丹阳&amp;fromDate=2024-02-19#:~:text=D2926</td>\n    </tr>\n    <tr>\n      <th>10</th>\n      <td>D2923</td>\n      <td>日照西</td>\n      <td>扬州东</td>\n      <td>D2923</td>\n      <td>09:40</td>\n      <td>12:39</td>\n      <td>2小时59分钟</td>\n      <td>230</td>\n      <td>0</td>\n      <td>144</td>\n      <td>0</td>\n      <td>https://www.suanya.com/pages/trainList?fromCn=日照西&amp;toCn=扬州东&amp;fromDate=2024-02-19#:~:text=D2923</td>\n    </tr>\n    <tr>\n      <th>11</th>\n      <td>D2923</td>\n      <td>董家口</td>\n      <td>扬州东</td>\n      <td>D2923</td>\n      <td>09:12</td>\n      <td>12:39</td>\n      <td>3小时27分钟</td>\n      <td>256</td>\n      <td>0</td>\n      <td>160</td>\n      <td>0</td>\n      <td>https://www.suanya.com/pages/trainList?fromCn=董家口&amp;toCn=扬州东&amp;fromDate=2024-02-19#:~:text=D2923</td>\n    </tr>\n    <tr>\n      <th>12</th>\n      <td>D2923</td>\n      <td>青岛西</td>\n      <td>扬州东</td>\n      <td>D2923</td>\n      <td>08:55</td>\n      <td>12:39</td>\n      <td>3小时44分钟</td>\n      <td>277</td>\n      <td>0</td>\n      <td>173</td>\n      <td>0</td>\n      <td>https://www.suanya.com/pages/trainList?fromCn=青岛西&amp;toCn=扬州东&amp;fromDate=2024-02-19#:~:text=D2923</td>\n    </tr>\n    <tr>\n      <th>13</th>\n      <td>D2923</td>\n      <td>红岛</td>\n      <td>扬州东</td>\n      <td>D2923</td>\n      <td>08:29</td>\n      <td>12:39</td>\n      <td>4小时10分钟</td>\n      <td>307</td>\n      <td>0</td>\n      <td>192</td>\n      <td>0</td>\n      <td>https://www.suanya.com/pages/trainList?fromCn=红岛&amp;toCn=扬州东&amp;fromDate=2024-02-19#:~:text=D2923</td>\n    </tr>\n    <tr>\n      <th>14</th>\n      <td>D2923</td>\n      <td>即墨北</td>\n      <td>扬州东</td>\n      <td>D2926</td>\n      <td>08:05</td>\n      <td>12:39</td>\n      <td>4小时34分钟</td>\n      <td>329</td>\n      <td>0</td>\n      <td>206</td>\n      <td>0</td>\n      <td>https://www.suanya.com/pages/trainList?fromCn=即墨北&amp;toCn=扬州东&amp;fromDate=2024-02-19#:~:text=D2926</td>\n    </tr>\n    <tr>\n      <th>15</th>\n      <td>D2923</td>\n      <td>莱阳</td>\n      <td>扬州东</td>\n      <td>D2926</td>\n      <td>07:42</td>\n      <td>12:39</td>\n      <td>4小时57分钟</td>\n      <td>360</td>\n      <td>0</td>\n      <td>225</td>\n      <td>0</td>\n      <td>https://www.suanya.com/pages/trainList?fromCn=莱阳&amp;toCn=扬州东&amp;fromDate=2024-02-19#:~:text=D2926</td>\n    </tr>\n    <tr>\n      <th>16</th>\n      <td>D2923</td>\n      <td>烟台南</td>\n      <td>扬州东</td>\n      <td>D2926</td>\n      <td>07:13</td>\n      <td>12:39</td>\n      <td>5小时26分钟</td>\n      <td>398</td>\n      <td>0</td>\n      <td>249</td>\n      <td>0</td>\n      <td>https://www.suanya.com/pages/trainList?fromCn=烟台南&amp;toCn=扬州东&amp;fromDate=2024-02-19#:~:text=D2926</td>\n    </tr>\n    <tr>\n      <th>17</th>\n      <td>D2923</td>\n      <td>威海北</td>\n      <td>扬州东</td>\n      <td>D2926</td>\n      <td>06:51</td>\n      <td>12:39</td>\n      <td>5小时48分钟</td>\n      <td>425</td>\n      <td>0</td>\n      <td>266</td>\n      <td>0</td>\n      <td>https://www.suanya.com/pages/trainList?fromCn=威海北&amp;toCn=扬州东&amp;fromDate=2024-02-19#:~:text=D2926</td>\n    </tr>\n    <tr>\n      <th>18</th>\n      <td>D2923</td>\n      <td>威海</td>\n      <td>扬州东</td>\n      <td>D2926</td>\n      <td>06:42</td>\n      <td>12:39</td>\n      <td>5小时57分钟</td>\n      <td>431</td>\n      <td>0</td>\n      <td>270</td>\n      <td>0</td>\n      <td>https://www.suanya.com/pages/trainList?fromCn=威海&amp;toCn=扬州东&amp;fromDate=2024-02-19#:~:text=D2926</td>\n    </tr>\n    <tr>\n      <th>19</th>\n      <td>D2923</td>\n      <td>荣成</td>\n      <td>扬州东</td>\n      <td>D2926</td>\n      <td>06:23</td>\n      <td>12:39</td>\n      <td>6小时16分钟</td>\n      <td>449</td>\n      <td>0</td>\n      <td>281</td>\n      <td>0</td>\n      <td>https://www.suanya.com/pages/trainList?fromCn=荣成&amp;toCn=扬州东&amp;fromDate=2024-02-19#:~:text=D2926</td>\n    </tr>\n    <tr>\n      <th>20</th>\n      <td>D2923</td>\n      <td>日照西</td>\n      <td>宝应</td>\n      <td>D2923</td>\n      <td>09:40</td>\n      <td>12:09</td>\n      <td>2小时29分钟</td>\n      <td>171</td>\n      <td>0</td>\n      <td>107</td>\n      <td>0</td>\n      <td>https://www.suanya.com/pages/trainList?fromCn=日照西&amp;toCn=宝应&amp;fromDate=2024-02-19#:~:text=D2923</td>\n    </tr>\n    <tr>\n      <th>21</th>\n      <td>D2923</td>\n      <td>董家口</td>\n      <td>宝应</td>\n      <td>D2923</td>\n      <td>09:12</td>\n      <td>12:09</td>\n      <td>2小时57分钟</td>\n      <td>197</td>\n      <td>0</td>\n      <td>123</td>\n      <td>0</td>\n      <td>https://www.suanya.com/pages/trainList?fromCn=董家口&amp;toCn=宝应&amp;fromDate=2024-02-19#:~:text=D2923</td>\n    </tr>\n    <tr>\n      <th>22</th>\n      <td>D2923</td>\n      <td>青岛西</td>\n      <td>宝应</td>\n      <td>D2923</td>\n      <td>08:55</td>\n      <td>12:09</td>\n      <td>3小时14分钟</td>\n      <td>218</td>\n      <td>0</td>\n      <td>136</td>\n      <td>0</td>\n      <td>https://www.suanya.com/pages/trainList?fromCn=青岛西&amp;toCn=宝应&amp;fromDate=2024-02-19#:~:text=D2923</td>\n    </tr>\n    <tr>\n      <th>23</th>\n      <td>D2923</td>\n      <td>红岛</td>\n      <td>宝应</td>\n      <td>D2923</td>\n      <td>08:29</td>\n      <td>12:09</td>\n      <td>3小时40分钟</td>\n      <td>248</td>\n      <td>0</td>\n      <td>155</td>\n      <td>0</td>\n      <td>https://www.suanya.com/pages/trainList?fromCn=红岛&amp;toCn=宝应&amp;fromDate=2024-02-19#:~:text=D2923</td>\n    </tr>\n    <tr>\n      <th>24</th>\n      <td>D2923</td>\n      <td>即墨北</td>\n      <td>宝应</td>\n      <td>D2926</td>\n      <td>08:05</td>\n      <td>12:09</td>\n      <td>4小时4分钟</td>\n      <td>270</td>\n      <td>0</td>\n      <td>169</td>\n      <td>0</td>\n      <td>https://www.suanya.com/pages/trainList?fromCn=即墨北&amp;toCn=宝应&amp;fromDate=2024-02-19#:~:text=D2926</td>\n    </tr>\n    <tr>\n      <th>25</th>\n      <td>D2923</td>\n      <td>莱阳</td>\n      <td>宝应</td>\n      <td>D2926</td>\n      <td>07:42</td>\n      <td>12:09</td>\n      <td>4小时27分钟</td>\n      <td>301</td>\n      <td>0</td>\n      <td>188</td>\n      <td>0</td>\n      <td>https://www.suanya.com/pages/trainList?fromCn=莱阳&amp;toCn=宝应&amp;fromDate=2024-02-19#:~:text=D2926</td>\n    </tr>\n    <tr>\n      <th>26</th>\n      <td>D2923</td>\n      <td>烟台南</td>\n      <td>宝应</td>\n      <td>D2926</td>\n      <td>07:13</td>\n      <td>12:09</td>\n      <td>4小时56分钟</td>\n      <td>339</td>\n      <td>0</td>\n      <td>212</td>\n      <td>0</td>\n      <td>https://www.suanya.com/pages/trainList?fromCn=烟台南&amp;toCn=宝应&amp;fromDate=2024-02-19#:~:text=D2926</td>\n    </tr>\n    <tr>\n      <th>27</th>\n      <td>D2923</td>\n      <td>威海北</td>\n      <td>宝应</td>\n      <td>D2926</td>\n      <td>06:51</td>\n      <td>12:09</td>\n      <td>5小时18分钟</td>\n      <td>366</td>\n      <td>0</td>\n      <td>229</td>\n      <td>0</td>\n      <td>https://www.suanya.com/pages/trainList?fromCn=威海北&amp;toCn=宝应&amp;fromDate=2024-02-19#:~:text=D2926</td>\n    </tr>\n    <tr>\n      <th>28</th>\n      <td>D2923</td>\n      <td>威海</td>\n      <td>宝应</td>\n      <td>D2926</td>\n      <td>06:42</td>\n      <td>12:09</td>\n      <td>5小时27分钟</td>\n      <td>372</td>\n      <td>0</td>\n      <td>233</td>\n      <td>0</td>\n      <td>https://www.suanya.com/pages/trainList?fromCn=威海&amp;toCn=宝应&amp;fromDate=2024-02-19#:~:text=D2926</td>\n    </tr>\n    <tr>\n      <th>29</th>\n      <td>D2923</td>\n      <td>荣成</td>\n      <td>宝应</td>\n      <td>D2926</td>\n      <td>06:23</td>\n      <td>12:09</td>\n      <td>5小时46分钟</td>\n      <td>390</td>\n      <td>0</td>\n      <td>244</td>\n      <td>0</td>\n      <td>https://www.suanya.com/pages/trainList?fromCn=荣成&amp;toCn=宝应&amp;fromDate=2024-02-19#:~:text=D2926</td>\n    </tr>\n    <tr>\n      <th>30</th>\n      <td>D2923</td>\n      <td>日照西</td>\n      <td>淮安东</td>\n      <td>D2923</td>\n      <td>09:40</td>\n      <td>11:50</td>\n      <td>2小时10分钟</td>\n      <td>143</td>\n      <td>0</td>\n      <td>89</td>\n      <td>0</td>\n      <td>https://www.suanya.com/pages/trainList?fromCn=日照西&amp;toCn=淮安东&amp;fromDate=2024-02-19#:~:text=D2923</td>\n    </tr>\n    <tr>\n      <th>31</th>\n      <td>D2923</td>\n      <td>董家口</td>\n      <td>淮安东</td>\n      <td>D2923</td>\n      <td>09:12</td>\n      <td>11:50</td>\n      <td>2小时38分钟</td>\n      <td>169</td>\n      <td>0</td>\n      <td>105</td>\n      <td>0</td>\n      <td>https://www.suanya.com/pages/trainList?fromCn=董家口&amp;toCn=淮安东&amp;fromDate=2024-02-19#:~:text=D2923</td>\n    </tr>\n    <tr>\n      <th>32</th>\n      <td>D2923</td>\n      <td>青岛西</td>\n      <td>淮安东</td>\n      <td>D2923</td>\n      <td>08:55</td>\n      <td>11:50</td>\n      <td>2小时55分钟</td>\n      <td>190</td>\n      <td>0</td>\n      <td>118</td>\n      <td>0</td>\n      <td>https://www.suanya.com/pages/trainList?fromCn=青岛西&amp;toCn=淮安东&amp;fromDate=2024-02-19#:~:text=D2923</td>\n    </tr>\n    <tr>\n      <th>33</th>\n      <td>D2923</td>\n      <td>红岛</td>\n      <td>淮安东</td>\n      <td>D2923</td>\n      <td>08:29</td>\n      <td>11:50</td>\n      <td>3小时21分钟</td>\n      <td>220</td>\n      <td>0</td>\n      <td>137</td>\n      <td>0</td>\n      <td>https://www.suanya.com/pages/trainList?fromCn=红岛&amp;toCn=淮安东&amp;fromDate=2024-02-19#:~:text=D2923</td>\n    </tr>\n    <tr>\n      <th>34</th>\n      <td>D2923</td>\n      <td>即墨北</td>\n      <td>淮安东</td>\n      <td>D2926</td>\n      <td>08:05</td>\n      <td>11:50</td>\n      <td>3小时45分钟</td>\n      <td>242</td>\n      <td>0</td>\n      <td>151</td>\n      <td>0</td>\n      <td>https://www.suanya.com/pages/trainList?fromCn=即墨北&amp;toCn=淮安东&amp;fromDate=2024-02-19#:~:text=D2926</td>\n    </tr>\n    <tr>\n      <th>35</th>\n      <td>D2923</td>\n      <td>莱阳</td>\n      <td>淮安东</td>\n      <td>D2926</td>\n      <td>07:42</td>\n      <td>11:50</td>\n      <td>4小时8分钟</td>\n      <td>273</td>\n      <td>0</td>\n      <td>170</td>\n      <td>0</td>\n      <td>https://www.suanya.com/pages/trainList?fromCn=莱阳&amp;toCn=淮安东&amp;fromDate=2024-02-19#:~:text=D2926</td>\n    </tr>\n    <tr>\n      <th>36</th>\n      <td>D2923</td>\n      <td>烟台南</td>\n      <td>淮安东</td>\n      <td>D2926</td>\n      <td>07:13</td>\n      <td>11:50</td>\n      <td>4小时37分钟</td>\n      <td>311</td>\n      <td>0</td>\n      <td>194</td>\n      <td>2</td>\n      <td>https://www.suanya.com/pages/trainList?fromCn=烟台南&amp;toCn=淮安东&amp;fromDate=2024-02-19#:~:text=D2926</td>\n    </tr>\n    <tr>\n      <th>37</th>\n      <td>D2923</td>\n      <td>威海北</td>\n      <td>淮安东</td>\n      <td>D2926</td>\n      <td>06:51</td>\n      <td>11:50</td>\n      <td>4小时59分钟</td>\n      <td>338</td>\n      <td>0</td>\n      <td>211</td>\n      <td>2</td>\n      <td>https://www.suanya.com/pages/trainList?fromCn=威海北&amp;toCn=淮安东&amp;fromDate=2024-02-19#:~:text=D2926</td>\n    </tr>\n    <tr>\n      <th>38</th>\n      <td>D2923</td>\n      <td>威海</td>\n      <td>淮安东</td>\n      <td>D2926</td>\n      <td>06:42</td>\n      <td>11:50</td>\n      <td>5小时8分钟</td>\n      <td>344</td>\n      <td>0</td>\n      <td>215</td>\n      <td>2</td>\n      <td>https://www.suanya.com/pages/trainList?fromCn=威海&amp;toCn=淮安东&amp;fromDate=2024-02-19#:~:text=D2926</td>\n    </tr>\n    <tr>\n      <th>39</th>\n      <td>D2923</td>\n      <td>荣成</td>\n      <td>淮安东</td>\n      <td>D2926</td>\n      <td>06:23</td>\n      <td>11:50</td>\n      <td>5小时27分钟</td>\n      <td>362</td>\n      <td>0</td>\n      <td>226</td>\n      <td>2</td>\n      <td>https://www.suanya.com/pages/trainList?fromCn=荣成&amp;toCn=淮安东&amp;fromDate=2024-02-19#:~:text=D2926</td>\n    </tr>\n    <tr>\n      <th>40</th>\n      <td>D2923</td>\n      <td>日照西</td>\n      <td>涟水</td>\n      <td>D2923</td>\n      <td>09:40</td>\n      <td>11:30</td>\n      <td>1小时50分钟</td>\n      <td>126</td>\n      <td>0</td>\n      <td>80</td>\n      <td>0</td>\n      <td>https://www.suanya.com/pages/trainList?fromCn=日照西&amp;toCn=涟水&amp;fromDate=2024-02-19#:~:text=D2923</td>\n    </tr>\n    <tr>\n      <th>41</th>\n      <td>D2923</td>\n      <td>董家口</td>\n      <td>涟水</td>\n      <td>D2923</td>\n      <td>09:12</td>\n      <td>11:30</td>\n      <td>2小时18分钟</td>\n      <td>152</td>\n      <td>0</td>\n      <td>96</td>\n      <td>0</td>\n      <td>https://www.suanya.com/pages/trainList?fromCn=董家口&amp;toCn=涟水&amp;fromDate=2024-02-19#:~:text=D2923</td>\n    </tr>\n    <tr>\n      <th>42</th>\n      <td>D2923</td>\n      <td>青岛西</td>\n      <td>涟水</td>\n      <td>D2923</td>\n      <td>08:55</td>\n      <td>11:30</td>\n      <td>2小时35分钟</td>\n      <td>173</td>\n      <td>0</td>\n      <td>109</td>\n      <td>0</td>\n      <td>https://www.suanya.com/pages/trainList?fromCn=青岛西&amp;toCn=涟水&amp;fromDate=2024-02-19#:~:text=D2923</td>\n    </tr>\n    <tr>\n      <th>43</th>\n      <td>D2923</td>\n      <td>红岛</td>\n      <td>涟水</td>\n      <td>D2923</td>\n      <td>08:29</td>\n      <td>11:30</td>\n      <td>3小时1分钟</td>\n      <td>203</td>\n      <td>0</td>\n      <td>128</td>\n      <td>0</td>\n      <td>https://www.suanya.com/pages/trainList?fromCn=红岛&amp;toCn=涟水&amp;fromDate=2024-02-19#:~:text=D2923</td>\n    </tr>\n    <tr>\n      <th>44</th>\n      <td>D2923</td>\n      <td>即墨北</td>\n      <td>涟水</td>\n      <td>D2926</td>\n      <td>08:05</td>\n      <td>11:30</td>\n      <td>3小时25分钟</td>\n      <td>225</td>\n      <td>0</td>\n      <td>142</td>\n      <td>0</td>\n      <td>https://www.suanya.com/pages/trainList?fromCn=即墨北&amp;toCn=涟水&amp;fromDate=2024-02-19#:~:text=D2926</td>\n    </tr>\n    <tr>\n      <th>45</th>\n      <td>D2923</td>\n      <td>莱阳</td>\n      <td>涟水</td>\n      <td>D2926</td>\n      <td>07:42</td>\n      <td>11:30</td>\n      <td>3小时48分钟</td>\n      <td>256</td>\n      <td>0</td>\n      <td>161</td>\n      <td>0</td>\n      <td>https://www.suanya.com/pages/trainList?fromCn=莱阳&amp;toCn=涟水&amp;fromDate=2024-02-19#:~:text=D2926</td>\n    </tr>\n    <tr>\n      <th>46</th>\n      <td>D2923</td>\n      <td>烟台南</td>\n      <td>涟水</td>\n      <td>D2926</td>\n      <td>07:13</td>\n      <td>11:30</td>\n      <td>4小时17分钟</td>\n      <td>294</td>\n      <td>0</td>\n      <td>185</td>\n      <td>5</td>\n      <td>https://www.suanya.com/pages/trainList?fromCn=烟台南&amp;toCn=涟水&amp;fromDate=2024-02-19#:~:text=D2926</td>\n    </tr>\n    <tr>\n      <th>47</th>\n      <td>D2923</td>\n      <td>威海北</td>\n      <td>涟水</td>\n      <td>D2926</td>\n      <td>06:51</td>\n      <td>11:30</td>\n      <td>4小时39分钟</td>\n      <td>321</td>\n      <td>0</td>\n      <td>202</td>\n      <td>5</td>\n      <td>https://www.suanya.com/pages/trainList?fromCn=威海北&amp;toCn=涟水&amp;fromDate=2024-02-19#:~:text=D2926</td>\n    </tr>\n    <tr>\n      <th>48</th>\n      <td>D2923</td>\n      <td>威海</td>\n      <td>涟水</td>\n      <td>D2926</td>\n      <td>06:42</td>\n      <td>11:30</td>\n      <td>4小时48分钟</td>\n      <td>327</td>\n      <td>0</td>\n      <td>206</td>\n      <td>5</td>\n      <td>https://www.suanya.com/pages/trainList?fromCn=威海&amp;toCn=涟水&amp;fromDate=2024-02-19#:~:text=D2926</td>\n    </tr>\n    <tr>\n      <th>49</th>\n      <td>D2923</td>\n      <td>荣成</td>\n      <td>涟水</td>\n      <td>D2926</td>\n      <td>06:23</td>\n      <td>11:30</td>\n      <td>5小时7分钟</td>\n      <td>345</td>\n      <td>0</td>\n      <td>217</td>\n      <td>5</td>\n      <td>https://www.suanya.com/pages/trainList?fromCn=荣成&amp;toCn=涟水&amp;fromDate=2024-02-19#:~:text=D2926</td>\n    </tr>\n    <tr>\n      <th>50</th>\n      <td>D2923</td>\n      <td>日照西</td>\n      <td>灌南</td>\n      <td>D2923</td>\n      <td>09:40</td>\n      <td>11:07</td>\n      <td>1小时27分钟</td>\n      <td>102</td>\n      <td>0</td>\n      <td>65</td>\n      <td>0</td>\n      <td>https://www.suanya.com/pages/trainList?fromCn=日照西&amp;toCn=灌南&amp;fromDate=2024-02-19#:~:text=D2923</td>\n    </tr>\n    <tr>\n      <th>51</th>\n      <td>D2923</td>\n      <td>董家口</td>\n      <td>灌南</td>\n      <td>D2923</td>\n      <td>09:12</td>\n      <td>11:07</td>\n      <td>1小时55分钟</td>\n      <td>128</td>\n      <td>0</td>\n      <td>81</td>\n      <td>0</td>\n      <td>https://www.suanya.com/pages/trainList?fromCn=董家口&amp;toCn=灌南&amp;fromDate=2024-02-19#:~:text=D2923</td>\n    </tr>\n    <tr>\n      <th>52</th>\n      <td>D2923</td>\n      <td>青岛西</td>\n      <td>灌南</td>\n      <td>D2923</td>\n      <td>08:55</td>\n      <td>11:07</td>\n      <td>2小时12分钟</td>\n      <td>149</td>\n      <td>0</td>\n      <td>94</td>\n      <td>0</td>\n      <td>https://www.suanya.com/pages/trainList?fromCn=青岛西&amp;toCn=灌南&amp;fromDate=2024-02-19#:~:text=D2923</td>\n    </tr>\n    <tr>\n      <th>53</th>\n      <td>D2923</td>\n      <td>红岛</td>\n      <td>灌南</td>\n      <td>D2923</td>\n      <td>08:29</td>\n      <td>11:07</td>\n      <td>2小时38分钟</td>\n      <td>179</td>\n      <td>0</td>\n      <td>113</td>\n      <td>0</td>\n      <td>https://www.suanya.com/pages/trainList?fromCn=红岛&amp;toCn=灌南&amp;fromDate=2024-02-19#:~:text=D2923</td>\n    </tr>\n    <tr>\n      <th>54</th>\n      <td>D2923</td>\n      <td>即墨北</td>\n      <td>灌南</td>\n      <td>D2926</td>\n      <td>08:05</td>\n      <td>11:07</td>\n      <td>3小时2分钟</td>\n      <td>201</td>\n      <td>0</td>\n      <td>127</td>\n      <td>0</td>\n      <td>https://www.suanya.com/pages/trainList?fromCn=即墨北&amp;toCn=灌南&amp;fromDate=2024-02-19#:~:text=D2926</td>\n    </tr>\n    <tr>\n      <th>55</th>\n      <td>D2923</td>\n      <td>莱阳</td>\n      <td>灌南</td>\n      <td>D2926</td>\n      <td>07:42</td>\n      <td>11:07</td>\n      <td>3小时25分钟</td>\n      <td>232</td>\n      <td>0</td>\n      <td>146</td>\n      <td>0</td>\n      <td>https://www.suanya.com/pages/trainList?fromCn=莱阳&amp;toCn=灌南&amp;fromDate=2024-02-19#:~:text=D2926</td>\n    </tr>\n    <tr>\n      <th>56</th>\n      <td>D2923</td>\n      <td>烟台南</td>\n      <td>灌南</td>\n      <td>D2926</td>\n      <td>07:13</td>\n      <td>11:07</td>\n      <td>3小时54分钟</td>\n      <td>270</td>\n      <td>0</td>\n      <td>170</td>\n      <td>6</td>\n      <td>https://www.suanya.com/pages/trainList?fromCn=烟台南&amp;toCn=灌南&amp;fromDate=2024-02-19#:~:text=D2926</td>\n    </tr>\n    <tr>\n      <th>57</th>\n      <td>D2923</td>\n      <td>威海北</td>\n      <td>灌南</td>\n      <td>D2926</td>\n      <td>06:51</td>\n      <td>11:07</td>\n      <td>4小时16分钟</td>\n      <td>297</td>\n      <td>0</td>\n      <td>187</td>\n      <td>6</td>\n      <td>https://www.suanya.com/pages/trainList?fromCn=威海北&amp;toCn=灌南&amp;fromDate=2024-02-19#:~:text=D2926</td>\n    </tr>\n    <tr>\n      <th>58</th>\n      <td>D2923</td>\n      <td>威海</td>\n      <td>灌南</td>\n      <td>D2926</td>\n      <td>06:42</td>\n      <td>11:07</td>\n      <td>4小时25分钟</td>\n      <td>303</td>\n      <td>0</td>\n      <td>191</td>\n      <td>6</td>\n      <td>https://www.suanya.com/pages/trainList?fromCn=威海&amp;toCn=灌南&amp;fromDate=2024-02-19#:~:text=D2926</td>\n    </tr>\n    <tr>\n      <th>59</th>\n      <td>D2923</td>\n      <td>荣成</td>\n      <td>灌南</td>\n      <td>D2926</td>\n      <td>06:23</td>\n      <td>11:07</td>\n      <td>4小时44分钟</td>\n      <td>321</td>\n      <td>0</td>\n      <td>202</td>\n      <td>6</td>\n      <td>https://www.suanya.com/pages/trainList?fromCn=荣成&amp;toCn=灌南&amp;fromDate=2024-02-19#:~:text=D2926</td>\n    </tr>\n    <tr>\n      <th>60</th>\n      <td>D2923</td>\n      <td>日照西</td>\n      <td>灌云</td>\n      <td>D2923</td>\n      <td>09:40</td>\n      <td>10:55</td>\n      <td>1小时15分钟</td>\n      <td>88</td>\n      <td>0</td>\n      <td>56</td>\n      <td>0</td>\n      <td>https://www.suanya.com/pages/trainList?fromCn=日照西&amp;toCn=灌云&amp;fromDate=2024-02-19#:~:text=D2923</td>\n    </tr>\n    <tr>\n      <th>61</th>\n      <td>D2923</td>\n      <td>董家口</td>\n      <td>灌云</td>\n      <td>D2923</td>\n      <td>09:12</td>\n      <td>10:55</td>\n      <td>1小时43分钟</td>\n      <td>114</td>\n      <td>0</td>\n      <td>72</td>\n      <td>0</td>\n      <td>https://www.suanya.com/pages/trainList?fromCn=董家口&amp;toCn=灌云&amp;fromDate=2024-02-19#:~:text=D2923</td>\n    </tr>\n    <tr>\n      <th>62</th>\n      <td>D2923</td>\n      <td>青岛西</td>\n      <td>灌云</td>\n      <td>D2923</td>\n      <td>08:55</td>\n      <td>10:55</td>\n      <td>2小时0分钟</td>\n      <td>135</td>\n      <td>0</td>\n      <td>85</td>\n      <td>0</td>\n      <td>https://www.suanya.com/pages/trainList?fromCn=青岛西&amp;toCn=灌云&amp;fromDate=2024-02-19#:~:text=D2923</td>\n    </tr>\n    <tr>\n      <th>63</th>\n      <td>D2923</td>\n      <td>红岛</td>\n      <td>灌云</td>\n      <td>D2923</td>\n      <td>08:29</td>\n      <td>10:55</td>\n      <td>2小时26分钟</td>\n      <td>165</td>\n      <td>0</td>\n      <td>104</td>\n      <td>0</td>\n      <td>https://www.suanya.com/pages/trainList?fromCn=红岛&amp;toCn=灌云&amp;fromDate=2024-02-19#:~:text=D2923</td>\n    </tr>\n    <tr>\n      <th>64</th>\n      <td>D2923</td>\n      <td>即墨北</td>\n      <td>灌云</td>\n      <td>D2926</td>\n      <td>08:05</td>\n      <td>10:55</td>\n      <td>2小时50分钟</td>\n      <td>187</td>\n      <td>0</td>\n      <td>118</td>\n      <td>0</td>\n      <td>https://www.suanya.com/pages/trainList?fromCn=即墨北&amp;toCn=灌云&amp;fromDate=2024-02-19#:~:text=D2926</td>\n    </tr>\n    <tr>\n      <th>65</th>\n      <td>D2923</td>\n      <td>莱阳</td>\n      <td>灌云</td>\n      <td>D2926</td>\n      <td>07:42</td>\n      <td>10:55</td>\n      <td>3小时13分钟</td>\n      <td>218</td>\n      <td>0</td>\n      <td>137</td>\n      <td>0</td>\n      <td>https://www.suanya.com/pages/trainList?fromCn=莱阳&amp;toCn=灌云&amp;fromDate=2024-02-19#:~:text=D2926</td>\n    </tr>\n    <tr>\n      <th>66</th>\n      <td>D2923</td>\n      <td>烟台南</td>\n      <td>灌云</td>\n      <td>D2926</td>\n      <td>07:13</td>\n      <td>10:55</td>\n      <td>3小时42分钟</td>\n      <td>256</td>\n      <td>0</td>\n      <td>161</td>\n      <td>2</td>\n      <td>https://www.suanya.com/pages/trainList?fromCn=烟台南&amp;toCn=灌云&amp;fromDate=2024-02-19#:~:text=D2926</td>\n    </tr>\n    <tr>\n      <th>67</th>\n      <td>D2923</td>\n      <td>威海北</td>\n      <td>灌云</td>\n      <td>D2926</td>\n      <td>06:51</td>\n      <td>10:55</td>\n      <td>4小时4分钟</td>\n      <td>283</td>\n      <td>0</td>\n      <td>178</td>\n      <td>2</td>\n      <td>https://www.suanya.com/pages/trainList?fromCn=威海北&amp;toCn=灌云&amp;fromDate=2024-02-19#:~:text=D2926</td>\n    </tr>\n    <tr>\n      <th>68</th>\n      <td>D2923</td>\n      <td>威海</td>\n      <td>灌云</td>\n      <td>D2926</td>\n      <td>06:42</td>\n      <td>10:55</td>\n      <td>4小时13分钟</td>\n      <td>289</td>\n      <td>0</td>\n      <td>182</td>\n      <td>2</td>\n      <td>https://www.suanya.com/pages/trainList?fromCn=威海&amp;toCn=灌云&amp;fromDate=2024-02-19#:~:text=D2926</td>\n    </tr>\n    <tr>\n      <th>69</th>\n      <td>D2923</td>\n      <td>荣成</td>\n      <td>灌云</td>\n      <td>D2926</td>\n      <td>06:23</td>\n      <td>10:55</td>\n      <td>4小时32分钟</td>\n      <td>307</td>\n      <td>0</td>\n      <td>193</td>\n      <td>2</td>\n      <td>https://www.suanya.com/pages/trainList?fromCn=荣成&amp;toCn=灌云&amp;fromDate=2024-02-19#:~:text=D2926</td>\n    </tr>\n    <tr>\n      <th>70</th>\n      <td>D2923</td>\n      <td>日照西</td>\n      <td>连云港</td>\n      <td>D2923</td>\n      <td>09:40</td>\n      <td>10:27</td>\n      <td>0小时47分钟</td>\n      <td>59</td>\n      <td>0</td>\n      <td>37</td>\n      <td>0</td>\n      <td>https://www.suanya.com/pages/trainList?fromCn=日照西&amp;toCn=连云港&amp;fromDate=2024-02-19#:~:text=D2923</td>\n    </tr>\n    <tr>\n      <th>71</th>\n      <td>D2923</td>\n      <td>董家口</td>\n      <td>连云港</td>\n      <td>D2923</td>\n      <td>09:12</td>\n      <td>10:27</td>\n      <td>1小时15分钟</td>\n      <td>85</td>\n      <td>0</td>\n      <td>53</td>\n      <td>0</td>\n      <td>https://www.suanya.com/pages/trainList?fromCn=董家口&amp;toCn=连云港&amp;fromDate=2024-02-19#:~:text=D2923</td>\n    </tr>\n    <tr>\n      <th>72</th>\n      <td>D2923</td>\n      <td>青岛西</td>\n      <td>连云港</td>\n      <td>D2923</td>\n      <td>08:55</td>\n      <td>10:27</td>\n      <td>1小时32分钟</td>\n      <td>106</td>\n      <td>0</td>\n      <td>66</td>\n      <td>0</td>\n      <td>https://www.suanya.com/pages/trainList?fromCn=青岛西&amp;toCn=连云港&amp;fromDate=2024-02-19#:~:text=D2923</td>\n    </tr>\n    <tr>\n      <th>73</th>\n      <td>D2923</td>\n      <td>红岛</td>\n      <td>连云港</td>\n      <td>D2923</td>\n      <td>08:29</td>\n      <td>10:27</td>\n      <td>1小时58分钟</td>\n      <td>136</td>\n      <td>0</td>\n      <td>85</td>\n      <td>0</td>\n      <td>https://www.suanya.com/pages/trainList?fromCn=红岛&amp;toCn=连云港&amp;fromDate=2024-02-19#:~:text=D2923</td>\n    </tr>\n    <tr>\n      <th>74</th>\n      <td>D2923</td>\n      <td>即墨北</td>\n      <td>连云港</td>\n      <td>D2926</td>\n      <td>08:05</td>\n      <td>10:27</td>\n      <td>2小时22分钟</td>\n      <td>158</td>\n      <td>0</td>\n      <td>99</td>\n      <td>0</td>\n      <td>https://www.suanya.com/pages/trainList?fromCn=即墨北&amp;toCn=连云港&amp;fromDate=2024-02-19#:~:text=D2926</td>\n    </tr>\n    <tr>\n      <th>75</th>\n      <td>D2923</td>\n      <td>莱阳</td>\n      <td>连云港</td>\n      <td>D2926</td>\n      <td>07:42</td>\n      <td>10:27</td>\n      <td>2小时45分钟</td>\n      <td>189</td>\n      <td>0</td>\n      <td>118</td>\n      <td>0</td>\n      <td>https://www.suanya.com/pages/trainList?fromCn=莱阳&amp;toCn=连云港&amp;fromDate=2024-02-19#:~:text=D2926</td>\n    </tr>\n    <tr>\n      <th>76</th>\n      <td>D2923</td>\n      <td>烟台南</td>\n      <td>连云港</td>\n      <td>D2926</td>\n      <td>07:13</td>\n      <td>10:27</td>\n      <td>3小时14分钟</td>\n      <td>227</td>\n      <td>0</td>\n      <td>142</td>\n      <td>5</td>\n      <td>https://www.suanya.com/pages/trainList?fromCn=烟台南&amp;toCn=连云港&amp;fromDate=2024-02-19#:~:text=D2926</td>\n    </tr>\n    <tr>\n      <th>77</th>\n      <td>D2923</td>\n      <td>威海北</td>\n      <td>连云港</td>\n      <td>D2926</td>\n      <td>06:51</td>\n      <td>10:27</td>\n      <td>3小时36分钟</td>\n      <td>254</td>\n      <td>0</td>\n      <td>159</td>\n      <td>5</td>\n      <td>https://www.suanya.com/pages/trainList?fromCn=威海北&amp;toCn=连云港&amp;fromDate=2024-02-19#:~:text=D2926</td>\n    </tr>\n    <tr>\n      <th>78</th>\n      <td>D2923</td>\n      <td>威海</td>\n      <td>连云港</td>\n      <td>D2926</td>\n      <td>06:42</td>\n      <td>10:27</td>\n      <td>3小时45分钟</td>\n      <td>260</td>\n      <td>0</td>\n      <td>163</td>\n      <td>5</td>\n      <td>https://www.suanya.com/pages/trainList?fromCn=威海&amp;toCn=连云港&amp;fromDate=2024-02-19#:~:text=D2926</td>\n    </tr>\n    <tr>\n      <th>79</th>\n      <td>D2923</td>\n      <td>荣成</td>\n      <td>连云港</td>\n      <td>D2926</td>\n      <td>06:23</td>\n      <td>10:27</td>\n      <td>4小时4分钟</td>\n      <td>278</td>\n      <td>0</td>\n      <td>174</td>\n      <td>5</td>\n      <td>https://www.suanya.com/pages/trainList?fromCn=荣成&amp;toCn=连云港&amp;fromDate=2024-02-19#:~:text=D2926</td>\n    </tr>\n  </tbody>\n</table>\n</div>"
     },
     "execution_count": 10,
     "metadata": {},
     "output_type": "execute_result"
    }
   ],
   "source": [
    "# 将xlist_item_results合并成一个df, 并且生成index\n",
    "xlist_item_results_df = pd.concat(xlist_item_results, ignore_index=True)\n",
    "# 增加原始车次列\n",
    "xlist_item_results_df.insert(0, \"原始车次\", train_item[\"TrainName\"])\n",
    "# item_stop_station_names中有站名, 按照xlist_item_results_df中的终点站和起点站进行排序, 先按照站名在item_stop_station_names中越靠后则优先级越高. 终点站比较特殊,按照靠近配置中的终点站的距离排序.\n",
    "xlist_item_results_df[\"起点站优先级\"] = xlist_item_results_df[\"起点站\"].apply(\n",
    "    lambda x: item_stop_station_names.index(x))\n",
    "xlist_item_results_df[\"终点站优先级\"] = xlist_item_results_df[\"终点站\"].apply(\n",
    "    lambda x: abs(item_stop_station_names.index(x) - item_stop_station_names.index(station_end)))\n",
    "# 一等座价格排序优先级,\n",
    "xlist_item_results_df[\"一等座价格优先级\"] = xlist_item_results_df[\"一等座价格\"].apply(lambda x: 0 if x is None else x)\n",
    "xlist_item_results_df = xlist_item_results_df.sort_values(by=[\"终点站优先级\", \"一等座价格优先级\", \"起点站优先级\"],\n",
    "                                                          ascending=[True, True, False])\n",
    "# 移除两个优先级列\n",
    "xlist_item_results_df = xlist_item_results_df.drop(columns=[\"起点站优先级\", \"终点站优先级\", \"一等座价格优先级\"])\n",
    "# 增加一列, 拼接个http链接    https://www.suanya.com/pages/trainList?fromCn=日照西&toCn=苏州&fromDate=2024-02-19#:~:text=D2923\n",
    "xlist_item_results_df[\"车次链接\"] = xlist_item_results_df.apply(lambda\n",
    "                                                                    x: f'https://www.suanya.com/pages/trainList?fromCn={x[\"起点站\"]}&toCn={x[\"终点站\"]}&fromDate={date}#:~:text={x[\"车次\"]}',\n",
    "                                                                axis=1)\n",
    "xlist_item_results_df = xlist_item_results_df.reset_index(drop=True)\n",
    "xlist_item_results_df"
   ]
  },
  {
   "cell_type": "markdown",
   "id": "edad731c2b37e080",
   "metadata": {
    "collapsed": false
   },
   "source": [
    "# 最终结果 : 保留一等座余量或者二等座余量大于 0 的车次\n"
   ]
  },
  {
   "cell_type": "code",
   "execution_count": 11,
   "id": "60140ee829a23718",
   "metadata": {
    "collapsed": false,
    "ExecuteTime": {
     "end_time": "2024-02-08T03:19:26.969464Z",
     "start_time": "2024-02-08T03:19:26.955317Z"
    }
   },
   "outputs": [
    {
     "name": "stdout",
     "output_type": "stream",
     "text": [
      "[  MainThread ]  0  :  荣成\n",
      "[  MainThread ]  1  :  威海\n",
      "[  MainThread ]  2  :  威海北\n",
      "[  MainThread ]  3  :  烟台南\n",
      "[  MainThread ]  4  :  莱阳\n",
      "[  MainThread ]  5  :  即墨北\n",
      "[  MainThread ]  6  :  红岛\n",
      "[  MainThread ]  7  :  青岛西\n",
      "[  MainThread ]  8  :  董家口\n",
      "[  MainThread ]  9  :  日照西\n",
      "[  MainThread ]  10  :  赣榆\n",
      "[  MainThread ]  11  :  连云港\n",
      "[  MainThread ]  12  :  灌云\n",
      "[  MainThread ]  13  :  灌南\n",
      "[  MainThread ]  14  :  涟水\n",
      "[  MainThread ]  15  :  淮安东\n",
      "[  MainThread ]  16  :  宝应\n",
      "[  MainThread ]  17  :  扬州东\n",
      "[  MainThread ]  18  :  丹阳\n",
      "[  MainThread ]  19  :  常州\n",
      "[  MainThread ]  20  :  无锡\n",
      "[  MainThread ]  21  :  苏州\n",
      "[  MainThread ]  22  :  上海虹桥\n",
      "[  MainThread ] ------------------------\n",
      "[  MainThread ] | 当前时间 :  11:19:26  | \n",
      "[  MainThread ] ------------------------\n"
     ]
    },
    {
     "data": {
      "text/plain": "    上车站车次  起点站  补票站     车次  提前买  少买  提前买+少买 支出总时间/路程时间     无效时间比  站票时间(min)  \\\n0   D2923  烟台南  淮安东  D2926    7   4      11    380/202  1.881188        103   \n1   D2923  烟台南  连云港  D2926    7   8      15    380/202  1.881188        186   \n2   D2923  烟台南   涟水  D2926    7   5      12    380/202  1.881188        123   \n3   D2923  烟台南   灌云  D2926    7   7      14    380/202  1.881188        158   \n4   D2923  烟台南   灌南  D2926    7   6      13    380/202  1.881188        146   \n5   D2923  威海北  连云港  D2926    8   8      16    402/202  1.990099        186   \n6   D2923  威海北   灌云  D2926    8   7      15    402/202  1.990099        158   \n7   D2923  威海北   灌南  D2926    8   6      14    402/202  1.990099        146   \n8   D2923  威海北   涟水  D2926    8   5      13    402/202  1.990099        123   \n9   D2923  威海北  淮安东  D2926    8   4      12    402/202  1.990099        103   \n10  D2923   威海   涟水  D2926    9   5      14    411/202  2.034653        123   \n11  D2923   威海  连云港  D2926    9   8      17    411/202  2.034653        186   \n12  D2923   威海   灌南  D2926    9   6      15    411/202  2.034653        146   \n13  D2923   威海   灌云  D2926    9   7      16    411/202  2.034653        158   \n14  D2923   威海  淮安东  D2926    9   4      13    411/202  2.034653        103   \n15  D2923   荣成   灌南  D2926   10   6      16    430/202  2.128713        146   \n16  D2923   荣成  淮安东  D2926   10   4      14    430/202  2.128713        103   \n17  D2923   荣成   灌云  D2926   10   7      17    430/202  2.128713        158   \n18  D2923   荣成   涟水  D2926   10   5      15    430/202  2.128713        123   \n19  D2923   荣成  连云港  D2926   10   8      18    430/202  2.128713        186   \n\n    二等座全程支出(元)  多余支出(元)  一等座余票量  二等座余票量  \\\n0          321      150       0       2   \n1          321      150       0       5   \n2          321      150       0       5   \n3          321      150       0       2   \n4          321      150       0       6   \n5          340      169       0       5   \n6          340      169       0       2   \n7          340      169       0       6   \n8          340      169       0       5   \n9          340      169       0       2   \n10         347      176       0       5   \n11         347      176       0       5   \n12         347      176       0       6   \n13         347      176       0       2   \n14         347      176       0       2   \n15         364      193       0       6   \n16         364      193       0       2   \n17         364      193       0       2   \n18         364      193       0       5   \n19         364      193       0       5   \n\n                                                                                            车次链接  \n0   https://www.suanya.com/pages/trainList?fromCn=烟台南&toCn=淮安东&fromDate=2024-02-19#:~:text=D2926  \n1   https://www.suanya.com/pages/trainList?fromCn=烟台南&toCn=连云港&fromDate=2024-02-19#:~:text=D2926  \n2    https://www.suanya.com/pages/trainList?fromCn=烟台南&toCn=涟水&fromDate=2024-02-19#:~:text=D2926  \n3    https://www.suanya.com/pages/trainList?fromCn=烟台南&toCn=灌云&fromDate=2024-02-19#:~:text=D2926  \n4    https://www.suanya.com/pages/trainList?fromCn=烟台南&toCn=灌南&fromDate=2024-02-19#:~:text=D2926  \n5   https://www.suanya.com/pages/trainList?fromCn=威海北&toCn=连云港&fromDate=2024-02-19#:~:text=D2926  \n6    https://www.suanya.com/pages/trainList?fromCn=威海北&toCn=灌云&fromDate=2024-02-19#:~:text=D2926  \n7    https://www.suanya.com/pages/trainList?fromCn=威海北&toCn=灌南&fromDate=2024-02-19#:~:text=D2926  \n8    https://www.suanya.com/pages/trainList?fromCn=威海北&toCn=涟水&fromDate=2024-02-19#:~:text=D2926  \n9   https://www.suanya.com/pages/trainList?fromCn=威海北&toCn=淮安东&fromDate=2024-02-19#:~:text=D2926  \n10    https://www.suanya.com/pages/trainList?fromCn=威海&toCn=涟水&fromDate=2024-02-19#:~:text=D2926  \n11   https://www.suanya.com/pages/trainList?fromCn=威海&toCn=连云港&fromDate=2024-02-19#:~:text=D2926  \n12    https://www.suanya.com/pages/trainList?fromCn=威海&toCn=灌南&fromDate=2024-02-19#:~:text=D2926  \n13    https://www.suanya.com/pages/trainList?fromCn=威海&toCn=灌云&fromDate=2024-02-19#:~:text=D2926  \n14   https://www.suanya.com/pages/trainList?fromCn=威海&toCn=淮安东&fromDate=2024-02-19#:~:text=D2926  \n15    https://www.suanya.com/pages/trainList?fromCn=荣成&toCn=灌南&fromDate=2024-02-19#:~:text=D2926  \n16   https://www.suanya.com/pages/trainList?fromCn=荣成&toCn=淮安东&fromDate=2024-02-19#:~:text=D2926  \n17    https://www.suanya.com/pages/trainList?fromCn=荣成&toCn=灌云&fromDate=2024-02-19#:~:text=D2926  \n18    https://www.suanya.com/pages/trainList?fromCn=荣成&toCn=涟水&fromDate=2024-02-19#:~:text=D2926  \n19   https://www.suanya.com/pages/trainList?fromCn=荣成&toCn=连云港&fromDate=2024-02-19#:~:text=D2926  ",
      "text/html": "<div>\n<style scoped>\n    .dataframe tbody tr th:only-of-type {\n        vertical-align: middle;\n    }\n\n    .dataframe tbody tr th {\n        vertical-align: top;\n    }\n\n    .dataframe thead th {\n        text-align: right;\n    }\n</style>\n<table border=\"1\" class=\"dataframe\">\n  <thead>\n    <tr style=\"text-align: right;\">\n      <th></th>\n      <th>上车站车次</th>\n      <th>起点站</th>\n      <th>补票站</th>\n      <th>车次</th>\n      <th>提前买</th>\n      <th>少买</th>\n      <th>提前买+少买</th>\n      <th>支出总时间/路程时间</th>\n      <th>无效时间比</th>\n      <th>站票时间(min)</th>\n      <th>二等座全程支出(元)</th>\n      <th>多余支出(元)</th>\n      <th>一等座余票量</th>\n      <th>二等座余票量</th>\n      <th>车次链接</th>\n    </tr>\n  </thead>\n  <tbody>\n    <tr>\n      <th>0</th>\n      <td>D2923</td>\n      <td>烟台南</td>\n      <td>淮安东</td>\n      <td>D2926</td>\n      <td>7</td>\n      <td>4</td>\n      <td>11</td>\n      <td>380/202</td>\n      <td>1.881188</td>\n      <td>103</td>\n      <td>321</td>\n      <td>150</td>\n      <td>0</td>\n      <td>2</td>\n      <td>https://www.suanya.com/pages/trainList?fromCn=烟台南&amp;toCn=淮安东&amp;fromDate=2024-02-19#:~:text=D2926</td>\n    </tr>\n    <tr>\n      <th>1</th>\n      <td>D2923</td>\n      <td>烟台南</td>\n      <td>连云港</td>\n      <td>D2926</td>\n      <td>7</td>\n      <td>8</td>\n      <td>15</td>\n      <td>380/202</td>\n      <td>1.881188</td>\n      <td>186</td>\n      <td>321</td>\n      <td>150</td>\n      <td>0</td>\n      <td>5</td>\n      <td>https://www.suanya.com/pages/trainList?fromCn=烟台南&amp;toCn=连云港&amp;fromDate=2024-02-19#:~:text=D2926</td>\n    </tr>\n    <tr>\n      <th>2</th>\n      <td>D2923</td>\n      <td>烟台南</td>\n      <td>涟水</td>\n      <td>D2926</td>\n      <td>7</td>\n      <td>5</td>\n      <td>12</td>\n      <td>380/202</td>\n      <td>1.881188</td>\n      <td>123</td>\n      <td>321</td>\n      <td>150</td>\n      <td>0</td>\n      <td>5</td>\n      <td>https://www.suanya.com/pages/trainList?fromCn=烟台南&amp;toCn=涟水&amp;fromDate=2024-02-19#:~:text=D2926</td>\n    </tr>\n    <tr>\n      <th>3</th>\n      <td>D2923</td>\n      <td>烟台南</td>\n      <td>灌云</td>\n      <td>D2926</td>\n      <td>7</td>\n      <td>7</td>\n      <td>14</td>\n      <td>380/202</td>\n      <td>1.881188</td>\n      <td>158</td>\n      <td>321</td>\n      <td>150</td>\n      <td>0</td>\n      <td>2</td>\n      <td>https://www.suanya.com/pages/trainList?fromCn=烟台南&amp;toCn=灌云&amp;fromDate=2024-02-19#:~:text=D2926</td>\n    </tr>\n    <tr>\n      <th>4</th>\n      <td>D2923</td>\n      <td>烟台南</td>\n      <td>灌南</td>\n      <td>D2926</td>\n      <td>7</td>\n      <td>6</td>\n      <td>13</td>\n      <td>380/202</td>\n      <td>1.881188</td>\n      <td>146</td>\n      <td>321</td>\n      <td>150</td>\n      <td>0</td>\n      <td>6</td>\n      <td>https://www.suanya.com/pages/trainList?fromCn=烟台南&amp;toCn=灌南&amp;fromDate=2024-02-19#:~:text=D2926</td>\n    </tr>\n    <tr>\n      <th>5</th>\n      <td>D2923</td>\n      <td>威海北</td>\n      <td>连云港</td>\n      <td>D2926</td>\n      <td>8</td>\n      <td>8</td>\n      <td>16</td>\n      <td>402/202</td>\n      <td>1.990099</td>\n      <td>186</td>\n      <td>340</td>\n      <td>169</td>\n      <td>0</td>\n      <td>5</td>\n      <td>https://www.suanya.com/pages/trainList?fromCn=威海北&amp;toCn=连云港&amp;fromDate=2024-02-19#:~:text=D2926</td>\n    </tr>\n    <tr>\n      <th>6</th>\n      <td>D2923</td>\n      <td>威海北</td>\n      <td>灌云</td>\n      <td>D2926</td>\n      <td>8</td>\n      <td>7</td>\n      <td>15</td>\n      <td>402/202</td>\n      <td>1.990099</td>\n      <td>158</td>\n      <td>340</td>\n      <td>169</td>\n      <td>0</td>\n      <td>2</td>\n      <td>https://www.suanya.com/pages/trainList?fromCn=威海北&amp;toCn=灌云&amp;fromDate=2024-02-19#:~:text=D2926</td>\n    </tr>\n    <tr>\n      <th>7</th>\n      <td>D2923</td>\n      <td>威海北</td>\n      <td>灌南</td>\n      <td>D2926</td>\n      <td>8</td>\n      <td>6</td>\n      <td>14</td>\n      <td>402/202</td>\n      <td>1.990099</td>\n      <td>146</td>\n      <td>340</td>\n      <td>169</td>\n      <td>0</td>\n      <td>6</td>\n      <td>https://www.suanya.com/pages/trainList?fromCn=威海北&amp;toCn=灌南&amp;fromDate=2024-02-19#:~:text=D2926</td>\n    </tr>\n    <tr>\n      <th>8</th>\n      <td>D2923</td>\n      <td>威海北</td>\n      <td>涟水</td>\n      <td>D2926</td>\n      <td>8</td>\n      <td>5</td>\n      <td>13</td>\n      <td>402/202</td>\n      <td>1.990099</td>\n      <td>123</td>\n      <td>340</td>\n      <td>169</td>\n      <td>0</td>\n      <td>5</td>\n      <td>https://www.suanya.com/pages/trainList?fromCn=威海北&amp;toCn=涟水&amp;fromDate=2024-02-19#:~:text=D2926</td>\n    </tr>\n    <tr>\n      <th>9</th>\n      <td>D2923</td>\n      <td>威海北</td>\n      <td>淮安东</td>\n      <td>D2926</td>\n      <td>8</td>\n      <td>4</td>\n      <td>12</td>\n      <td>402/202</td>\n      <td>1.990099</td>\n      <td>103</td>\n      <td>340</td>\n      <td>169</td>\n      <td>0</td>\n      <td>2</td>\n      <td>https://www.suanya.com/pages/trainList?fromCn=威海北&amp;toCn=淮安东&amp;fromDate=2024-02-19#:~:text=D2926</td>\n    </tr>\n    <tr>\n      <th>10</th>\n      <td>D2923</td>\n      <td>威海</td>\n      <td>涟水</td>\n      <td>D2926</td>\n      <td>9</td>\n      <td>5</td>\n      <td>14</td>\n      <td>411/202</td>\n      <td>2.034653</td>\n      <td>123</td>\n      <td>347</td>\n      <td>176</td>\n      <td>0</td>\n      <td>5</td>\n      <td>https://www.suanya.com/pages/trainList?fromCn=威海&amp;toCn=涟水&amp;fromDate=2024-02-19#:~:text=D2926</td>\n    </tr>\n    <tr>\n      <th>11</th>\n      <td>D2923</td>\n      <td>威海</td>\n      <td>连云港</td>\n      <td>D2926</td>\n      <td>9</td>\n      <td>8</td>\n      <td>17</td>\n      <td>411/202</td>\n      <td>2.034653</td>\n      <td>186</td>\n      <td>347</td>\n      <td>176</td>\n      <td>0</td>\n      <td>5</td>\n      <td>https://www.suanya.com/pages/trainList?fromCn=威海&amp;toCn=连云港&amp;fromDate=2024-02-19#:~:text=D2926</td>\n    </tr>\n    <tr>\n      <th>12</th>\n      <td>D2923</td>\n      <td>威海</td>\n      <td>灌南</td>\n      <td>D2926</td>\n      <td>9</td>\n      <td>6</td>\n      <td>15</td>\n      <td>411/202</td>\n      <td>2.034653</td>\n      <td>146</td>\n      <td>347</td>\n      <td>176</td>\n      <td>0</td>\n      <td>6</td>\n      <td>https://www.suanya.com/pages/trainList?fromCn=威海&amp;toCn=灌南&amp;fromDate=2024-02-19#:~:text=D2926</td>\n    </tr>\n    <tr>\n      <th>13</th>\n      <td>D2923</td>\n      <td>威海</td>\n      <td>灌云</td>\n      <td>D2926</td>\n      <td>9</td>\n      <td>7</td>\n      <td>16</td>\n      <td>411/202</td>\n      <td>2.034653</td>\n      <td>158</td>\n      <td>347</td>\n      <td>176</td>\n      <td>0</td>\n      <td>2</td>\n      <td>https://www.suanya.com/pages/trainList?fromCn=威海&amp;toCn=灌云&amp;fromDate=2024-02-19#:~:text=D2926</td>\n    </tr>\n    <tr>\n      <th>14</th>\n      <td>D2923</td>\n      <td>威海</td>\n      <td>淮安东</td>\n      <td>D2926</td>\n      <td>9</td>\n      <td>4</td>\n      <td>13</td>\n      <td>411/202</td>\n      <td>2.034653</td>\n      <td>103</td>\n      <td>347</td>\n      <td>176</td>\n      <td>0</td>\n      <td>2</td>\n      <td>https://www.suanya.com/pages/trainList?fromCn=威海&amp;toCn=淮安东&amp;fromDate=2024-02-19#:~:text=D2926</td>\n    </tr>\n    <tr>\n      <th>15</th>\n      <td>D2923</td>\n      <td>荣成</td>\n      <td>灌南</td>\n      <td>D2926</td>\n      <td>10</td>\n      <td>6</td>\n      <td>16</td>\n      <td>430/202</td>\n      <td>2.128713</td>\n      <td>146</td>\n      <td>364</td>\n      <td>193</td>\n      <td>0</td>\n      <td>6</td>\n      <td>https://www.suanya.com/pages/trainList?fromCn=荣成&amp;toCn=灌南&amp;fromDate=2024-02-19#:~:text=D2926</td>\n    </tr>\n    <tr>\n      <th>16</th>\n      <td>D2923</td>\n      <td>荣成</td>\n      <td>淮安东</td>\n      <td>D2926</td>\n      <td>10</td>\n      <td>4</td>\n      <td>14</td>\n      <td>430/202</td>\n      <td>2.128713</td>\n      <td>103</td>\n      <td>364</td>\n      <td>193</td>\n      <td>0</td>\n      <td>2</td>\n      <td>https://www.suanya.com/pages/trainList?fromCn=荣成&amp;toCn=淮安东&amp;fromDate=2024-02-19#:~:text=D2926</td>\n    </tr>\n    <tr>\n      <th>17</th>\n      <td>D2923</td>\n      <td>荣成</td>\n      <td>灌云</td>\n      <td>D2926</td>\n      <td>10</td>\n      <td>7</td>\n      <td>17</td>\n      <td>430/202</td>\n      <td>2.128713</td>\n      <td>158</td>\n      <td>364</td>\n      <td>193</td>\n      <td>0</td>\n      <td>2</td>\n      <td>https://www.suanya.com/pages/trainList?fromCn=荣成&amp;toCn=灌云&amp;fromDate=2024-02-19#:~:text=D2926</td>\n    </tr>\n    <tr>\n      <th>18</th>\n      <td>D2923</td>\n      <td>荣成</td>\n      <td>涟水</td>\n      <td>D2926</td>\n      <td>10</td>\n      <td>5</td>\n      <td>15</td>\n      <td>430/202</td>\n      <td>2.128713</td>\n      <td>123</td>\n      <td>364</td>\n      <td>193</td>\n      <td>0</td>\n      <td>5</td>\n      <td>https://www.suanya.com/pages/trainList?fromCn=荣成&amp;toCn=涟水&amp;fromDate=2024-02-19#:~:text=D2926</td>\n    </tr>\n    <tr>\n      <th>19</th>\n      <td>D2923</td>\n      <td>荣成</td>\n      <td>连云港</td>\n      <td>D2926</td>\n      <td>10</td>\n      <td>8</td>\n      <td>18</td>\n      <td>430/202</td>\n      <td>2.128713</td>\n      <td>186</td>\n      <td>364</td>\n      <td>193</td>\n      <td>0</td>\n      <td>5</td>\n      <td>https://www.suanya.com/pages/trainList?fromCn=荣成&amp;toCn=连云港&amp;fromDate=2024-02-19#:~:text=D2926</td>\n    </tr>\n  </tbody>\n</table>\n</div>"
     },
     "execution_count": 11,
     "metadata": {},
     "output_type": "execute_result"
    }
   ],
   "source": [
    "# 保留一等座余量或者二等座余量大于0的车次\n",
    "# 打印一下战列列表\n",
    "# item_stop_station_names\n",
    "for (index, station_name) in enumerate(item_stop_station_names):\n",
    "    print(\"\", index, \" : \", station_name)\n",
    "\n",
    "xlist_item_results_df_has_rest = xlist_item_results_df[\n",
    "    (xlist_item_results_df[\"一等座余票量\"] > 0) | (xlist_item_results_df[\"二等座余票量\"] > 0)]\n",
    "# 遍历xlist_item_results 计算一下多买了少买了几站, 多买的基站, 基于station_start, 多买的站点, 基于station_end, 在xlist_item_results_df_has_rest增加两列显示\n",
    "# Get the indices of station_start and station_end in the item_stop_station_names list\n",
    "start_station_index = item_stop_station_names.index(station_start)\n",
    "end_station_index = item_stop_station_names.index(station_end)\n",
    "\n",
    "# Calculate the number of extra stations bought based on station_start and station_end\n",
    "xlist_item_results_df_has_rest_buy_more_1 = xlist_item_results_df_has_rest['起点站'].apply(\n",
    "    lambda x: start_station_index - item_stop_station_names.index(x))\n",
    "xlist_item_results_df_has_rest_buy_more_2 = xlist_item_results_df_has_rest['终点站'].apply(\n",
    "    lambda x: end_station_index - item_stop_station_names.index(x))\n",
    "\n",
    "xlist_item_results_df_has_rest.insert(5, \"提前买\", xlist_item_results_df_has_rest_buy_more_1)\n",
    "xlist_item_results_df_has_rest.insert(6, \"少买\", xlist_item_results_df_has_rest_buy_more_2)\n",
    "# 提前买和少买的绝对值加合,增加一列\n",
    "xlist_item_results_df_has_rest.insert(7, \"提前买+少买\",\n",
    "                                      xlist_item_results_df_has_rest_buy_more_1.abs() + xlist_item_results_df_has_rest_buy_more_2.abs())\n",
    "# 增加原始车次的结束时间\n",
    "xlist_item_results_df_has_rest.insert(9, \"原始车次结束时间\", train_item[\"EndTime\"])\n",
    "# 计算车次的时间区间和原始时间的重叠度,即当前车次的有效时间/原始需要的时间\n",
    "\n",
    "# 时间差值,需要字符串转换成时间\n",
    "from datetime import datetime\n",
    "\n",
    "# Convert strings to datetime objects\n",
    "train_item_start_time = datetime.strptime(train_item[\"StartTime\"], '%H:%M')\n",
    "train_item_end_time = datetime.strptime(train_item[\"EndTime\"], '%H:%M')\n",
    "train_time_diff = train_item_end_time - train_item_start_time\n",
    "train_time_diff_min = train_time_diff.total_seconds() / 60\n",
    "\n",
    "# 花钱的时间\n",
    "xlist_item_results_df_has_rest.insert(10, \"支出总时间\", xlist_item_results_df_has_rest.apply(lambda x: (\n",
    "                                                                                                                   max(datetime.strptime(\n",
    "                                                                                                                       x[\n",
    "                                                                                                                           \"结束时间\"],\n",
    "                                                                                                                       '%H:%M'),\n",
    "                                                                                                                       train_item_end_time) - datetime.strptime(\n",
    "                                                                                                               x[\n",
    "                                                                                                                   \"开始时间\"],\n",
    "                                                                                                               '%H:%M')).total_seconds() / 60,\n",
    "                                                                                             axis=1))\n",
    "# 花钱时间除以原始时间\n",
    "xlist_item_results_df_has_rest.insert(11, \"无效时间比\", xlist_item_results_df_has_rest.apply(\n",
    "    lambda x: x[\"支出总时间\"] / train_time_diff_min, axis=1))\n",
    "# 计算一下补票的时间,也就是需要站着的时间\n",
    "xlist_item_results_df_has_rest.insert(12, \"站票时间(min)\", xlist_item_results_df_has_rest.apply(lambda x: int(\n",
    "    (train_item_end_time - min(datetime.strptime(x[\"结束时间\"], '%H:%M'), train_item_end_time)).total_seconds() / 60),\n",
    "                                                                                                axis=1))\n",
    "\n",
    "xlist_item_results_df_has_rest.insert(13, \"二等座全程支出(元)\", xlist_item_results_df_has_rest.apply(\n",
    "    lambda x: int(x[\"无效时间比\"] * train_item_second_price), axis=1))\n",
    "xlist_item_results_df_has_rest.insert(14, \"多余支出(元)\", xlist_item_results_df_has_rest.apply(\n",
    "    lambda x: int(x[\"二等座全程支出(元)\"] - train_item_second_price), axis=1))\n",
    "xlist_item_results_df_has_rest.insert(9, \"支出总时间/路程时间\", xlist_item_results_df_has_rest.apply(\n",
    "    lambda x: str(int(x[\"支出总时间\"])) + \"/\" + str(int(train_time_diff_min)), axis=1))\n",
    "\n",
    "# 移除掉购买链接\n",
    "# xlist_item_results_df_has_rest = xlist_item_results_df_has_rest.drop(columns=[\"车次链接\"])\n",
    "xlist_item_results_df_has_rest = xlist_item_results_df_has_rest.drop(columns=[\"耗时\"])\n",
    "# xlist_item_results_df_has_rest = xlist_item_results_df_has_rest.drop(columns=[\"开始时间\"])\n",
    "xlist_item_results_df_has_rest = xlist_item_results_df_has_rest.drop(columns=[\"结束时间\"])\n",
    "xlist_item_results_df_has_rest = xlist_item_results_df_has_rest.drop(columns=[\"一等座价格\"])\n",
    "xlist_item_results_df_has_rest = xlist_item_results_df_has_rest.drop(columns=[\"二等座价格\"])\n",
    "xlist_item_results_df_has_rest = xlist_item_results_df_has_rest.drop(columns=[\"原始车次结束时间\"])\n",
    "xlist_item_results_df_has_rest = xlist_item_results_df_has_rest.drop(columns=[\"开始时间\"])\n",
    "xlist_item_results_df_has_rest = xlist_item_results_df_has_rest.drop(columns=[\"支出总时间\"])\n",
    "xlist_item_results_df_has_rest = xlist_item_results_df_has_rest.rename(columns={\"终点站\": \"补票站\"})\n",
    "xlist_item_results_df_has_rest = xlist_item_results_df_has_rest.rename(columns={\"原始车次\": \"上车站车次\"})\n",
    "\n",
    "xlist_item_results_df_has_rest = xlist_item_results_df_has_rest.sort_values(by=[\"多余支出(元)\"], ascending=[True])\n",
    "\n",
    "print(\"------------------------\")\n",
    "print(\"| 当前时间 : \", datetime.now().strftime(\"%H:%M:%S\"), \" | \")\n",
    "print(\"------------------------\")\n",
    "\n",
    "xlist_item_results_df_has_rest = xlist_item_results_df_has_rest.reset_index(drop=True)\n",
    "xlist_item_results_df_has_rest\n"
   ]
  }
 ],
 "metadata": {
  "kernelspec": {
   "display_name": "Python 3 (ipykernel)",
   "language": "python",
   "name": "python3"
  },
  "language_info": {
   "codemirror_mode": {
    "name": "ipython",
    "version": 3
   },
   "file_extension": ".py",
   "mimetype": "text/x-python",
   "name": "python",
   "nbconvert_exporter": "python",
   "pygments_lexer": "ipython3",
   "version": "3.12.0"
  }
 },
 "nbformat": 4,
 "nbformat_minor": 5
}
