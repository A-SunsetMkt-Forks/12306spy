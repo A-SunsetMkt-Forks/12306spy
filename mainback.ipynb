{
 "cells": [
  {
   "cell_type": "code",
   "execution_count": null,
   "id": "639f4dc5f1af1901",
   "metadata": {
    "ExecuteTime": {
     "end_time": "2024-02-06T08:23:51.680650600Z",
     "start_time": "2024-02-06T08:23:51.665181800Z"
    },
    "collapsed": false,
    "jupyter": {
     "outputs_hidden": false
    }
   },
   "outputs": [],
   "source": [
    "import httpx\n",
    "import orjson\n",
    "# 定义变量\n",
    "import pandas as pd\n",
    "pd.set_option('display.max_columns', None)\n",
    "pd.set_option('display.max_rows', None)\n",
    "pd.set_option('max_colwidth',1000)\n",
    "\n",
    "#起始站-终点站,日期,车次\n",
    "station_start = \"赣榆\"\n",
    "station_end = \"常州\"\n",
    "date = \"2024-02-19\"\n",
    "filter_train_names = [\"D2923\"] \n",
    "\n",
    "print(\"查询车次信息\")"
   ]
  },
  {
   "cell_type": "code",
   "execution_count": null,
   "id": "8c675565c1d362fc",
   "metadata": {
    "ExecuteTime": {
     "end_time": "2024-02-06T08:23:53.562613200Z",
     "start_time": "2024-02-06T08:23:53.539984200Z"
    },
    "collapsed": false,
    "jupyter": {
     "outputs_hidden": false
    }
   },
   "outputs": [],
   "source": [
    "def query_booking_by_station_v3_for_pc(station_start: str, station_end: str, date: str) -> list:\n",
    "    response = httpx.post('https://m.suanya.com/restapi/soa2/14666/json/GetBookingByStationV3ForPC',\n",
    "                          headers={\n",
    "                              \"authority\": \"m.suanya.com\",\n",
    "                              \"accept\": \"*/*\",\n",
    "                              \"accept-language\": \"zh-CN,zh;q=0.9,en;q=0.8,en-GB;q=0.7,en-US;q=0.6\",\n",
    "                              \"cache-control\": \"max-age=0\",\n",
    "                              \"content-type\": \"application/x-www-form-urlencoded; charset=UTF-8\",\n",
    "                              \"if-modified-since\": \"Thu, 01 Jan 1970 00:00:00 GMT\",\n",
    "                              \"origin\": \"https://www.suanya.com\",\n",
    "                              \"referer\": \"https://www.suanya.com/\",\n",
    "                              \"sec-ch-ua\": '\"Not A(Brand\";v=\"99\", \"Microsoft Edge\";v=\"121\", \"Chromium\";v=\"121\"',\n",
    "                              \"sec-ch-ua-mobile\": \"?0\",\n",
    "                              \"sec-ch-ua-platform\": '\"Windows\"',\n",
    "                              \"sec-fetch-dest\": \"empty\",\n",
    "                              \"sec-fetch-mode\": \"cors\",\n",
    "                              \"sec-fetch-site\": \"same-site\"\n",
    "                          },\n",
    "                          data={\n",
    "                              \"ArriveStation\": station_end,\n",
    "                              \"ChannelName\": \"ctrip.pc\",\n",
    "                              \"DepartDate\": date,\n",
    "                              \"DepartStation\": station_start\n",
    "                          }\n",
    "                          )\n",
    "    text = response.text\n",
    "    data = orjson.loads(text)\n",
    "    TrainItems = data[\"ResponseBody\"][\"TrainItems\"]\n",
    "    return TrainItems\n",
    "\n",
    "\n",
    "def query_booking_by_station_v3_for_pc_async(station_start: str, station_end: str, date: str) -> list:\n",
    "    query_booking_by_station_v3_for_pc(station_start, station_end, date)\n",
    "\n",
    "\n",
    "def transform_booking_train_items_info_to_dataframe(train_items: list):\n",
    "    # 定义列名的中英文对照字典\n",
    "    columns_chinese = {\n",
    "        \"train_number\": \"车次\",\n",
    "        \"start_time\": \"开始时间\",\n",
    "        \"end_time\": \"结束时间\",\n",
    "        \"duration\": \"耗时\",\n",
    "        \"first_class_price\": \"一等座价格\",\n",
    "        \"first_class_seats\": \"一等座余票量\",\n",
    "        \"second_class_price\": \"二等座价格\",\n",
    "        \"second_class_seats\": \"二等座余票量\",\n",
    "    }\n",
    "\n",
    "    # 使用英文列名创建DataFrame\n",
    "    data = [\n",
    "        {\n",
    "            \"train_number\": item[\"TrainName\"],\n",
    "            \"start_time\": item[\"StartTime\"],\n",
    "            \"end_time\": item[\"EndTime\"],\n",
    "            \"duration\": f'{item[\"UseTime\"] // 60}小时{item[\"UseTime\"] % 60}分钟',\n",
    "            \"first_class_price\": next(\n",
    "                (ticket[\"Price\"] for ticket in item[\"TicketResult\"][\"TicketItems\"] if\n",
    "                 ticket[\"SeatTypeName\"] == \"一等座\"),\n",
    "                None),\n",
    "            \"first_class_seats\": next((ticket[\"Inventory\"] for ticket in item[\"TicketResult\"][\"TicketItems\"] if\n",
    "                                       ticket[\"SeatTypeName\"] == \"一等座\"), None),\n",
    "            \"second_class_price\": next(\n",
    "                (ticket[\"Price\"] for ticket in item[\"TicketResult\"][\"TicketItems\"] if\n",
    "                 ticket[\"SeatTypeName\"] == \"二等座\"),\n",
    "                None),\n",
    "            \"second_class_seats\": next((ticket[\"Inventory\"] for ticket in item[\"TicketResult\"][\"TicketItems\"] if\n",
    "                                        ticket[\"SeatTypeName\"] == \"二等座\"), None),\n",
    "        }\n",
    "        for item in train_items\n",
    "    ]\n",
    "\n",
    "    train_list = pd.DataFrame(data)\n",
    "    # 重命名列名 , 不会改变原来的列名\n",
    "    return train_list.rename(columns=columns_chinese)\n",
    "\n",
    "\n",
    "def query_stop_station_list(train_name: str, date: str, start_station: str, end_station: str) -> list:\n",
    "    start_end_ret = httpx.post('https://m.suanya.com/restapi/soa2/14666/json/GetTrainStopListV3',\n",
    "                               headers={\n",
    "                                   \"authority\": \"m.suanya.com\",\n",
    "                                   \"accept\": \"*/*\",\n",
    "                                   \"accept-language\": \"zh-CN,zh;q=0.9,en;q=0.8,en-GB;q=0.7,en-US;q=0.6\",\n",
    "                                   \"cache-control\": \"max-age=0\",\n",
    "                                   \"content-type\": \"application/x-www-form-urlencoded; charset=UTF-8\",\n",
    "                                   \"if-modified-since\": \"Thu, 01 Jan 1970 00:00:00 GMT\",\n",
    "                                   \"origin\": \"https://www.suanya.com\",\n",
    "                                   \"referer\": \"https://www.suanya.com/\",\n",
    "                                   \"sec-ch-ua\": '\"Not A(Brand\";v=\"99\", \"Microsoft Edge\";v=\"121\", \"Chromium\";v=\"121\"',\n",
    "                                   \"sec-ch-ua-mobile\": \"?0\",\n",
    "                                   \"sec-ch-ua-platform\": '\"Windows\"',\n",
    "                                   \"sec-fetch-dest\": \"empty\",\n",
    "                                   \"sec-fetch-mode\": \"cors\",\n",
    "                                   \"sec-fetch-site\": \"same-site\"\n",
    "                               },\n",
    "                               data={\n",
    "                                   \"TrainName\": train_name,\n",
    "                                   \"DepartStation\": start_station,\n",
    "                                   \"ArrStation\": end_station,\n",
    "                                   \"DepartureDate\": date\n",
    "                               }\n",
    "                               )\n",
    "    text = start_end_ret.text\n",
    "    data = orjson.loads(text)\n",
    "    train_stop_list = data[\"TrainStopList\"]\n",
    "    return train_stop_list"
   ]
  },
  {
   "cell_type": "markdown",
   "id": "f2bd6256f8eca47",
   "metadata": {
    "collapsed": false,
    "jupyter": {
     "outputs_hidden": false
    }
   },
   "source": [
    "## 输出 : 从赣榆到上海的需要的车次信息\n"
   ]
  },
  {
   "cell_type": "code",
   "execution_count": null,
   "id": "687c412889097a01",
   "metadata": {
    "ExecuteTime": {
     "end_time": "2024-02-06T08:23:55.491862900Z",
     "start_time": "2024-02-06T08:23:55.193110100Z"
    },
    "collapsed": false,
    "jupyter": {
     "outputs_hidden": false
    }
   },
   "outputs": [],
   "source": [
    "response = httpx.post('https://m.suanya.com/restapi/soa2/14666/json/GetBookingByStationV3ForPC',\n",
    "                      headers={\n",
    "                          \"authority\": \"m.suanya.com\",\n",
    "                          \"accept\": \"*/*\",\n",
    "                          \"accept-language\": \"zh-CN,zh;q=0.9,en;q=0.8,en-GB;q=0.7,en-US;q=0.6\",\n",
    "                          \"cache-control\": \"max-age=0\",\n",
    "                          \"content-type\": \"application/x-www-form-urlencoded; charset=UTF-8\",\n",
    "                          \"if-modified-since\": \"Thu, 01 Jan 1970 00:00:00 GMT\",\n",
    "                          \"origin\": \"https://www.suanya.com\",\n",
    "                          \"referer\": \"https://www.suanya.com/\",\n",
    "                          \"sec-ch-ua\": '\"Not A(Brand\";v=\"99\", \"Microsoft Edge\";v=\"121\", \"Chromium\";v=\"121\"',\n",
    "                          \"sec-ch-ua-mobile\": \"?0\",\n",
    "                          \"sec-ch-ua-platform\": '\"Windows\"',\n",
    "                          \"sec-fetch-dest\": \"empty\",\n",
    "                          \"sec-fetch-mode\": \"cors\",\n",
    "                          \"sec-fetch-site\": \"same-site\"\n",
    "                      },\n",
    "                      data={\n",
    "                          \"ArriveStation\": station_end,\n",
    "                          \"ChannelName\": \"ctrip.pc\",\n",
    "                          \"DepartDate\": date,\n",
    "                          \"DepartStation\": station_start\n",
    "                      }\n",
    "                      )\n",
    "print(response.text)"
   ]
  },
  {
   "cell_type": "code",
   "execution_count": null,
   "id": "9f7ac9937572c3d8",
   "metadata": {
    "ExecuteTime": {
     "end_time": "2024-02-06T08:23:57.986504Z",
     "start_time": "2024-02-06T08:23:57.958844500Z"
    },
    "collapsed": false,
    "jupyter": {
     "outputs_hidden": false
    }
   },
   "outputs": [],
   "source": [
    "# 使用orgjson格式化输出 \n",
    "text = response.text\n",
    "data = orjson.loads(text)\n",
    "TrainItems_all = data[\"ResponseBody\"][\"TrainItems\"]\n",
    "\n",
    "# filter_train_names\n",
    "TrainItems = [item for item in TrainItems_all if item[\"TrainName\"] in filter_train_names]\n",
    "\n",
    "train_items_df = transform_booking_train_items_info_to_dataframe(TrainItems)\n",
    "train_items_df.insert(0, \"起点站\", station_start)\n",
    "train_items_df.insert(1, \"终点站\", station_end)\n",
    "train_items_df"
   ]
  },
  {
   "cell_type": "markdown",
   "id": "7b7ee48cba784d89",
   "metadata": {
    "collapsed": false,
    "jupyter": {
     "outputs_hidden": false
    }
   },
   "source": [
    "# 使用车次一个进行流程测试, 查询从赣榆到上海的 d2131 的车次的所有的停靠站信息\n",
    "\n",
    "`输出` : item_stop_list_stations\n"
   ]
  },
  {
   "cell_type": "code",
   "execution_count": null,
   "id": "d12bb42cffc0e5a9",
   "metadata": {
    "ExecuteTime": {
     "end_time": "2024-02-06T08:24:01.143647300Z",
     "start_time": "2024-02-06T08:24:01.050315Z"
    },
    "collapsed": false,
    "jupyter": {
     "outputs_hidden": false
    }
   },
   "outputs": [],
   "source": [
    "train_item = TrainItems[0]\n",
    "# 获取二等座价格\n",
    "train_item_second_price = next(\n",
    "    (ticket[\"Price\"] for ticket in train_item[\"TicketResult\"][\"TicketItems\"] if ticket[\"SeatTypeName\"] == \"二等座\"),\n",
    "    None)\n",
    "transform_booking_train_items_info_to_dataframe([train_item])\n",
    "\n",
    "item_stop_list_stations = query_stop_station_list(train_item[\"TrainName\"], date, station_start, station_end)\n",
    "\n",
    "item_stop_list_station_df = pd.DataFrame(item_stop_list_stations)\n",
    "item_stop_list_station_df.insert(0, \"车次\", train_item[\"TrainName\"])\n",
    "item_stop_list_station_df"
   ]
  },
  {
   "cell_type": "markdown",
   "id": "3affd5dda4aeeea0",
   "metadata": {
    "collapsed": false,
    "jupyter": {
     "outputs_hidden": false
    }
   },
   "source": [
    "# stationName 和始发站的映射关系的映射关系\n"
   ]
  },
  {
   "cell_type": "code",
   "execution_count": null,
   "id": "26767323efed25ff",
   "metadata": {
    "collapsed": false,
    "jupyter": {
     "outputs_hidden": false
    }
   },
   "outputs": [],
   "source": [
    "# stationName和始发站的映射关系的映射关系\n",
    "item_stop_list_station_name_departure_dict = {item[\"StationName\"]: item[\"DepartureTime\"] for item in\n",
    "                                              item_stop_list_stations}\n",
    "\n",
    "item_stop_list_station_name_departure_dict_df = pd.DataFrame(item_stop_list_station_name_departure_dict.items(),\n",
    "                                                             columns=[\"站名\", \"出发时间\"])\n",
    "# 增加车次列在开头\n",
    "item_stop_list_station_name_departure_dict_df.insert(0, \"车次\", train_item[\"TrainName\"])\n",
    "item_stop_list_station_name_departure_dict_df"
   ]
  },
  {
   "cell_type": "markdown",
   "id": "9342a358263dfebb",
   "metadata": {
    "collapsed": false,
    "jupyter": {
     "outputs_hidden": false
    }
   },
   "source": [
    "> 由于一辆车次在不同的起点, 车次的名称不一样. 需要确定停靠站的每一列的车次名称.\n",
    "> 分成三块 起点 : 上车站点 : 终点站 . 需要从[起始点, 上车站点] 和 (上车站点, 终点站] 两个列表中找出车次名称做叉乘, 得到所有的车次名称\n"
   ]
  },
  {
   "cell_type": "code",
   "execution_count": null,
   "id": "94f74fda6dbbfe2a",
   "metadata": {
    "collapsed": false,
    "jupyter": {
     "outputs_hidden": false
    }
   },
   "outputs": [],
   "source": [
    "# [起始点, 上车站点] 和 (上车站点, 终点站] 两个列表中找出车次名称做叉乘, 得到所有的车次名称\n",
    "item_stop_station_names = [item[\"StationName\"] for item in item_stop_list_stations]\n",
    "# item_stop_station_names转成df \n",
    "pd.DataFrame(item_stop_station_names, columns=[\"站名\"])"
   ]
  },
  {
   "cell_type": "markdown",
   "id": "6b1725084656c824",
   "metadata": {
    "collapsed": false,
    "jupyter": {
     "outputs_hidden": false
    }
   },
   "source": [
    "从[起始点, 上车站点] 和 (上车站点, 终点站] 两个列表中找出车次名称做叉乘, 得到所有的车次名称\n",
    "`输出` : xlist\n"
   ]
  },
  {
   "cell_type": "code",
   "execution_count": null,
   "id": "d2052af4f3678a90",
   "metadata": {
    "collapsed": false,
    "jupyter": {
     "outputs_hidden": false
    }
   },
   "outputs": [],
   "source": [
    "# 按照起点名和终点名分成两个列表, 进行叉乘, 使用包含, 而不是index, 因为名字可能不一样,但是一定包含\n",
    "start_station_index = 0  # 和middle_station_index可能相同\n",
    "middle_station_index = 0  # 和end_station_index一定不同\n",
    "end_station_index = 0\n",
    "for (index, station_name) in enumerate(item_stop_station_names):\n",
    "    if station_start in station_name:\n",
    "        middle_station_index = index\n",
    "    if station_end in station_name:\n",
    "        end_station_index = index\n",
    "# 两个队列的叉乘\n",
    "print(start_station_index, middle_station_index, end_station_index)\n",
    "xlist = []\n",
    "# index生成器\n",
    "index_generator = (i for i in range(0, 10000000))\n",
    "for i in range(start_station_index, middle_station_index):\n",
    "    for j in range(middle_station_index + 1, end_station_index):\n",
    "        xlist.append([item_stop_station_names[i], item_stop_station_names[j]])\n",
    "\n",
    "xlist_df = pd.DataFrame(xlist, columns=[\"起点\", \"终点\"])\n",
    "xlist_df.insert(0, \"原始车次\", train_item[\"TrainName\"])\n",
    "xlist_df"
   ]
  },
  {
   "cell_type": "markdown",
   "id": "e1572fa4ef08b71",
   "metadata": {
    "collapsed": false,
    "jupyter": {
     "outputs_hidden": false
    }
   },
   "source": [
    "> xlist 中的站点的车次关系,查询余票信息. 由于是按照车站名称查询, 两个车站之间有很多车次, 使用发车时间进行过滤,找到原始的车次\n"
   ]
  },
  {
   "cell_type": "code",
   "execution_count": null,
   "id": "c4d55291b900f9b1",
   "metadata": {
    "collapsed": false,
    "jupyter": {
     "outputs_hidden": false
    }
   },
   "outputs": [],
   "source": [
    "#\n",
    "import time\n",
    "import vthread\n",
    "\n",
    "xlist_item_results = []\n",
    "finished_index = []\n",
    "# 打印一下进度条\n",
    "print(\"开始查询车次信息, 总查询次数:\", len(xlist))\n",
    "print(\"开始查询\", len(xlist_item_results))\n",
    "\n",
    "# 多线程查询\n",
    "T1 = time.time()\n",
    "@vthread.pool(10)\n",
    "def xlist_item_job(index, xlist_item_start_station, xlist_item_end_station):\n",
    "    xlist_item_train_items = query_booking_by_station_v3_for_pc(xlist_item_start_station, xlist_item_end_station,\n",
    "                                                                date)\n",
    "    # 过滤出发车时间是之前dict中的时间的车次\n",
    "    xlist_item_start_station_departure_time = item_stop_list_station_name_departure_dict[xlist_item_start_station]\n",
    "    xlist_item_train_items = [item for item in xlist_item_train_items if str(item[\"StartTime\"]) == str(xlist_item_start_station_departure_time)]\n",
    "\n",
    "    xlist_item_train_items_df = transform_booking_train_items_info_to_dataframe(xlist_item_train_items)\n",
    "    # 给df增加一列, 起点站和终点站,放到开头\n",
    "    xlist_item_train_items_df.insert(0, \"起点站\", xlist_item_start_station)\n",
    "    xlist_item_train_items_df.insert(1, \"终点站\", xlist_item_end_station)\n",
    "    xlist_item_results.append(xlist_item_train_items_df)\n",
    "    finished_index.append(index)\n",
    "    \n",
    "for (index, xlist_item) in enumerate(xlist):\n",
    "    xlist_item_start_station = xlist_item[0]\n",
    "    xlist_item_end_station = xlist_item[1]\n",
    "    xlist_item_job(index, xlist_item_start_station, xlist_item_end_station)\n",
    "vthread.pool.wait()\n",
    "T2 = time.time()\n",
    "\n",
    "print(f\"查询结束,cost= {int((T2 - T1)*1000)} ms,  查询数量{len(xlist_item_results)},\\n {finished_index}\")"
   ]
  },
  {
   "cell_type": "code",
   "execution_count": null,
   "id": "63c5fefab54eb56a",
   "metadata": {
    "collapsed": false,
    "jupyter": {
     "outputs_hidden": false
    }
   },
   "outputs": [],
   "source": []
  },
  {
   "cell_type": "code",
   "execution_count": null,
   "id": "95daa1539eb706fb",
   "metadata": {
    "collapsed": false,
    "jupyter": {
     "outputs_hidden": false
    }
   },
   "outputs": [],
   "source": [
    "# 将xlist_item_results合并成一个df, 并且生成index\n",
    "xlist_item_results_df = pd.concat(xlist_item_results, ignore_index=True)\n",
    "# 增加原始车次列\n",
    "xlist_item_results_df.insert(0, \"原始车次\", train_item[\"TrainName\"])\n",
    "# item_stop_station_names中有站名, 按照xlist_item_results_df中的终点站和起点站进行排序, 先按照站名在item_stop_station_names中越靠后则优先级越高. 终点站比较特殊,按照靠近配置中的终点站的距离排序.\n",
    "xlist_item_results_df[\"起点站优先级\"] = xlist_item_results_df[\"起点站\"].apply(\n",
    "    lambda x: item_stop_station_names.index(x))\n",
    "xlist_item_results_df[\"终点站优先级\"] = xlist_item_results_df[\"终点站\"].apply(\n",
    "    lambda x: abs(item_stop_station_names.index(x) - item_stop_station_names.index(station_end)))\n",
    "# 一等座价格排序优先级,\n",
    "xlist_item_results_df[\"一等座价格优先级\"] = xlist_item_results_df[\"一等座价格\"].apply(lambda x: 0 if x is None else x)\n",
    "xlist_item_results_df = xlist_item_results_df.sort_values(by=[\"终点站优先级\", \"一等座价格优先级\", \"起点站优先级\"],\n",
    "                                                          ascending=[True, True, False])\n",
    "# 移除两个优先级列\n",
    "xlist_item_results_df = xlist_item_results_df.drop(columns=[\"起点站优先级\", \"终点站优先级\", \"一等座价格优先级\"])\n",
    "# 增加一列, 拼接个http链接    https://www.suanya.com/pages/trainList?fromCn=日照西&toCn=苏州&fromDate=2024-02-19#:~:text=D2923\n",
    "xlist_item_results_df[\"车次链接\"] = xlist_item_results_df.apply(lambda\n",
    "                                                                    x: f'https://www.suanya.com/pages/trainList?fromCn={x[\"起点站\"]}&toCn={x[\"终点站\"]}&fromDate={date}#:~:text={x[\"车次\"]}',\n",
    "                                                                axis=1)\n",
    "xlist_item_results_df = xlist_item_results_df.reset_index(drop=True)\n",
    "xlist_item_results_df"
   ]
  },
  {
   "cell_type": "markdown",
   "id": "edad731c2b37e080",
   "metadata": {
    "collapsed": false,
    "jupyter": {
     "outputs_hidden": false
    }
   },
   "source": [
    "# 最终结果 : 保留一等座余量或者二等座余量大于 0 的车次\n"
   ]
  },
  {
   "cell_type": "code",
   "execution_count": null,
   "id": "60140ee829a23718",
   "metadata": {
    "collapsed": false,
    "jupyter": {
     "outputs_hidden": false
    }
   },
   "outputs": [],
   "source": [
    "# 保留一等座余量或者二等座余量大于0的车次\n",
    "# 打印一下战列列表\n",
    "# item_stop_station_names\n",
    "for (index, station_name) in enumerate(item_stop_station_names):\n",
    "    print(\"\", index, \" : \", station_name)\n",
    "\n",
    "xlist_item_results_df_has_rest = xlist_item_results_df[\n",
    "    (xlist_item_results_df[\"一等座余票量\"] > 0) | (xlist_item_results_df[\"二等座余票量\"] > 0)]\n",
    "# 遍历xlist_item_results 计算一下多买了少买了几站, 多买的基站, 基于station_start, 多买的站点, 基于station_end, 在xlist_item_results_df_has_rest增加两列显示\n",
    "# Get the indices of station_start and station_end in the item_stop_station_names list\n",
    "start_station_index = item_stop_station_names.index(station_start)\n",
    "end_station_index = item_stop_station_names.index(station_end)\n",
    "\n",
    "# Calculate the number of extra stations bought based on station_start and station_end\n",
    "xlist_item_results_df_has_rest_buy_more_1 = xlist_item_results_df_has_rest['起点站'].apply(\n",
    "    lambda x: start_station_index - item_stop_station_names.index(x))\n",
    "xlist_item_results_df_has_rest_buy_more_2 = xlist_item_results_df_has_rest['终点站'].apply(\n",
    "    lambda x: end_station_index - item_stop_station_names.index(x))\n",
    "\n",
    "xlist_item_results_df_has_rest.insert(5, \"提前买\", xlist_item_results_df_has_rest_buy_more_1)\n",
    "xlist_item_results_df_has_rest.insert(6, \"少买\", xlist_item_results_df_has_rest_buy_more_2)\n",
    "# 提前买和少买的绝对值加合,增加一列\n",
    "xlist_item_results_df_has_rest.insert(7, \"提前买+少买\",\n",
    "                                      xlist_item_results_df_has_rest_buy_more_1.abs() + xlist_item_results_df_has_rest_buy_more_2.abs())\n",
    "# 增加原始车次的结束时间\n",
    "xlist_item_results_df_has_rest.insert(9, \"原始车次结束时间\", train_item[\"EndTime\"])\n",
    "# 计算车次的时间区间和原始时间的重叠度,即当前车次的有效时间/原始需要的时间\n",
    "\n",
    "# 时间差值,需要字符串转换成时间\n",
    "from datetime import datetime\n",
    "\n",
    "# Convert strings to datetime objects\n",
    "train_item_start_time = datetime.strptime(train_item[\"StartTime\"], '%H:%M')\n",
    "train_item_end_time = datetime.strptime(train_item[\"EndTime\"], '%H:%M')\n",
    "train_time_diff = train_item_end_time - train_item_start_time\n",
    "train_time_diff_min = train_time_diff.total_seconds() / 60\n",
    "\n",
    "# 花钱的时间\n",
    "xlist_item_results_df_has_rest.insert(10, \"支出总时间\", xlist_item_results_df_has_rest.apply(lambda x: (\n",
    "                                                                                                                   max(datetime.strptime(\n",
    "                                                                                                                       x[\n",
    "                                                                                                                           \"结束时间\"],\n",
    "                                                                                                                       '%H:%M'),\n",
    "                                                                                                                       train_item_end_time) - datetime.strptime(\n",
    "                                                                                                               x[\n",
    "                                                                                                                   \"开始时间\"],\n",
    "                                                                                                               '%H:%M')).total_seconds() / 60,\n",
    "                                                                                             axis=1))\n",
    "# 花钱时间除以原始时间\n",
    "xlist_item_results_df_has_rest.insert(11, \"无效时间比\", xlist_item_results_df_has_rest.apply(\n",
    "    lambda x: x[\"支出总时间\"] / train_time_diff_min, axis=1))\n",
    "# 计算一下补票的时间,也就是需要站着的时间\n",
    "xlist_item_results_df_has_rest.insert(12, \"站票时间(min)\", xlist_item_results_df_has_rest.apply(lambda x: int(\n",
    "    (train_item_end_time - min(datetime.strptime(x[\"结束时间\"], '%H:%M'), train_item_end_time)).total_seconds() / 60),\n",
    "                                                                                                axis=1))\n",
    "\n",
    "xlist_item_results_df_has_rest.insert(13, \"二等座全程支出(元)\", xlist_item_results_df_has_rest.apply(\n",
    "    lambda x: int(x[\"无效时间比\"] * train_item_second_price), axis=1))\n",
    "xlist_item_results_df_has_rest.insert(14, \"多余支出(元)\", xlist_item_results_df_has_rest.apply(\n",
    "    lambda x: int(x[\"二等座全程支出(元)\"] - train_item_second_price), axis=1))\n",
    "xlist_item_results_df_has_rest.insert(9, \"支出总时间/路程时间\", xlist_item_results_df_has_rest.apply(\n",
    "    lambda x: str(int(x[\"支出总时间\"])) + \"/\" + str(int(train_time_diff_min)), axis=1))\n",
    "\n",
    "# 移除掉购买链接\n",
    "# xlist_item_results_df_has_rest = xlist_item_results_df_has_rest.drop(columns=[\"车次链接\"])\n",
    "xlist_item_results_df_has_rest = xlist_item_results_df_has_rest.drop(columns=[\"耗时\"])\n",
    "# xlist_item_results_df_has_rest = xlist_item_results_df_has_rest.drop(columns=[\"开始时间\"])\n",
    "xlist_item_results_df_has_rest = xlist_item_results_df_has_rest.drop(columns=[\"结束时间\"])\n",
    "xlist_item_results_df_has_rest = xlist_item_results_df_has_rest.drop(columns=[\"一等座价格\"])\n",
    "xlist_item_results_df_has_rest = xlist_item_results_df_has_rest.drop(columns=[\"二等座价格\"])\n",
    "xlist_item_results_df_has_rest = xlist_item_results_df_has_rest.drop(columns=[\"原始车次结束时间\"])\n",
    "xlist_item_results_df_has_rest = xlist_item_results_df_has_rest.drop(columns=[\"开始时间\"])\n",
    "xlist_item_results_df_has_rest = xlist_item_results_df_has_rest.drop(columns=[\"支出总时间\"])\n",
    "xlist_item_results_df_has_rest = xlist_item_results_df_has_rest.rename(columns={\"终点站\": \"补票站\"})\n",
    "xlist_item_results_df_has_rest = xlist_item_results_df_has_rest.rename(columns={\"原始车次\": \"上车站车次\"})\n",
    "\n",
    "xlist_item_results_df_has_rest = xlist_item_results_df_has_rest.sort_values(by=[\"多余支出(元)\"], ascending=[True])\n",
    "\n",
    "print(\"------------------------\")\n",
    "print(\"| 当前时间 : \", datetime.now().strftime(\"%H:%M:%S\"), \" | \")\n",
    "print(\"------------------------\")\n",
    "\n",
    "xlist_item_results_df_has_rest = xlist_item_results_df_has_rest.reset_index(drop=True)\n",
    "xlist_item_results_df_has_rest\n"
   ]
  }
 ],
 "metadata": {
  "kernelspec": {
   "display_name": "Python 3 (ipykernel)",
   "language": "python",
   "name": "python3"
  },
  "language_info": {
   "codemirror_mode": {
    "name": "ipython",
    "version": 3
   },
   "file_extension": ".py",
   "mimetype": "text/x-python",
   "name": "python",
   "nbconvert_exporter": "python",
   "pygments_lexer": "ipython3",
   "version": "3.12.0"
  }
 },
 "nbformat": 4,
 "nbformat_minor": 5
}
